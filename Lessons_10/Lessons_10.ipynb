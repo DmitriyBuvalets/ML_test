{
  "nbformat": 4,
  "nbformat_minor": 0,
  "metadata": {
    "colab": {
      "name": "Lessons_10.ipynb",
      "provenance": [],
      "collapsed_sections": []
    },
    "kernelspec": {
      "name": "python3",
      "display_name": "Python 3"
    },
    "language_info": {
      "name": "python"
    }
  },
  "cells": [
    {
      "cell_type": "code",
      "execution_count": 2,
      "metadata": {
        "id": "Fgt5yEnI0Hfu"
      },
      "outputs": [],
      "source": [
        "import numpy as np\n",
        "import matplotlib.pyplot as plt\n",
        "#%matplotlib inline"
      ]
    },
    {
      "cell_type": "markdown",
      "source": [
        "**Первое уравнение**"
      ],
      "metadata": {
        "id": "qV7RtwlNYD4A"
      }
    },
    {
      "cell_type": "code",
      "source": [
        "x = np.linspace(-0.5,1.5,100)\n",
        "y = np.sin(x) + np.cos(x)\n",
        "plt.plot(x,y)\n",
        "\n",
        "x0 = 0; x1 = 1.2;\n",
        "y0 = np.sin(x0) + np.cos(x0)\n",
        "y1 = np.sin(x1) + np.cos(x1)\n",
        "\n",
        "plt.fill_between([x0,x1],[y0,y1])\n",
        "\n",
        "plt.xlim([-0.5, 1.5])\n",
        "plt.ylim([0, 1.5])\n",
        "plt.show()"
      ],
      "metadata": {
        "colab": {
          "base_uri": "https://localhost:8080/",
          "height": 265
        },
        "id": "oHx8j7sa1JD5",
        "outputId": "b61fd00c-9f81-4cc1-a67b-006a45ac6113"
      },
      "execution_count": 62,
      "outputs": [
        {
          "output_type": "display_data",
          "data": {
            "text/plain": [
              "<Figure size 432x288 with 1 Axes>"
            ],
            "image/png": "[encoded data removed]"
          },
          "metadata": {
            "needs_background": "light"
          }
        }
      ]
    },
    {
      "cell_type": "code",
      "source": [
        "A = 0.5*(y1 + y0)*(x1 - x0)\n",
        "print(\"Trapezoid area:\", A)"
      ],
      "metadata": {
        "colab": {
          "base_uri": "https://localhost:8080/"
        },
        "id": "A-uZypGu0QDh",
        "outputId": "69de3e72-64bb-4a3f-e6b8-606af9ff2a70"
      },
      "execution_count": 63,
      "outputs": [
        {
          "output_type": "stream",
          "name": "stdout",
          "text": [
            "Trapezoid area: 1.37663810426634\n"
          ]
        }
      ]
    },
    {
      "cell_type": "markdown",
      "source": [
        "**Второе уравнение**"
      ],
      "metadata": {
        "id": "YrYUPtvTYK1A"
      }
    },
    {
      "cell_type": "code",
      "source": [
        "x = np.linspace(-0.5,1.5, 100)\n",
        "y = np.tan(x)*x + 2\n",
        "plt.plot(x,y)\n",
        "\n",
        "x0 = 0.2; x1 = 0.8;\n",
        "\n",
        "y0 = np.tan(x0)*x0 + 2\n",
        "y1 = np.tan(x1)*x1 + 2\n",
        "\n",
        "plt.fill_between([x0,x1],[y0,y1])\n",
        "\n",
        "plt.xlim([-0.5, 2])\n",
        "plt.ylim([0, 5])\n",
        "plt.show()"
      ],
      "metadata": {
        "colab": {
          "base_uri": "https://localhost:8080/",
          "height": 269
        },
        "id": "QRSXLvs5TvtC",
        "outputId": "28901691-d13b-4316-9a29-384c40891368"
      },
      "execution_count": 64,
      "outputs": [
        {
          "output_type": "display_data",
          "data": {
            "text/plain": [
              "<Figure size 432x288 with 1 Axes>"
            ],
            "image/png": "[encoded data removed]"
          },
          "metadata": {
            "needs_background": "light"
          }
        }
      ]
    },
    {
      "cell_type": "code",
      "source": [
        "A = 0.5*(y1 + y0)*(x1 - x0)\n",
        "print(\"Trapezoid area:\", A)"
      ],
      "metadata": {
        "colab": {
          "base_uri": "https://localhost:8080/"
        },
        "id": "PqM5DE3WTv2K",
        "outputId": "b02b208e-07c8-4eed-a7ae-a8ce23982478"
      },
      "execution_count": 65,
      "outputs": [
        {
          "output_type": "stream",
          "name": "stdout",
          "text": [
            "Trapezoid area: 1.459275855822608\n"
          ]
        }
      ]
    },
    {
      "cell_type": "markdown",
      "source": [
        "**Третье уравнение**"
      ],
      "metadata": {
        "id": "9PHverdUYOsv"
      }
    },
    {
      "cell_type": "code",
      "source": [
        "x = np.linspace(-0.5, 1.5, 100)\n",
        "y = x**3 - 10*(x**2) + 170\n",
        "plt.plot(x,y)\n",
        "\n",
        "x0 = 0; x1 = 10;\n",
        "\n",
        "y0 = x0**3 - 10*(x0**2) + 170\n",
        "y1 = x1**3 - 10*(x1**2) + 170\n",
        "\n",
        "plt.fill_between([x0,x1],[y0,y1])\n",
        "\n",
        "plt.xlim([-1, 15])\n",
        "plt.ylim([-1, 250])\n",
        "plt.show()"
      ],
      "metadata": {
        "colab": {
          "base_uri": "https://localhost:8080/",
          "height": 269
        },
        "id": "9oZO_67eU15T",
        "outputId": "f9682a9c-6426-4736-c60e-2053426273a7"
      },
      "execution_count": 69,
      "outputs": [
        {
          "output_type": "display_data",
          "data": {
            "text/plain": [
              "<Figure size 432x288 with 1 Axes>"
            ],
            "image/png": "[encoded data removed]"
          },
          "metadata": {
            "needs_background": "light"
          }
        }
      ]
    },
    {
      "cell_type": "code",
      "source": [
        "A = 0.5*(y1 + y0)*(x1 - x0)\n",
        "print(\"Trapezoid area:\", A)"
      ],
      "metadata": {
        "colab": {
          "base_uri": "https://localhost:8080/"
        },
        "id": "LYVoZVSiU2BM",
        "outputId": "cecfc83b-1f5a-48c2-b580-8405a447bc69"
      },
      "execution_count": 67,
      "outputs": [
        {
          "output_type": "stream",
          "name": "stdout",
          "text": [
            "Trapezoid area: 1700.0\n"
          ]
        }
      ]
    }
  ]
}