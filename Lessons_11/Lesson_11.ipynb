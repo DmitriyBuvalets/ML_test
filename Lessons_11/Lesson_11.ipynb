{
  "cells": [
    {
      "cell_type": "code",
      "execution_count": 3,
      "metadata": {
        "id": "VVPnzP9KVr5P"
      },
      "outputs": [],
      "source": [
        "import pandas as pd\n",
        "import numpy as np\n",
        "import statistics as st"
      ]
    },
    {
      "cell_type": "markdown",
      "source": [
        "1. **Загрузка в файла в виде Numpy массива.**"
      ],
      "metadata": {
        "id": "f5Yk1ACRx__p"
      }
    },
    {
      "cell_type": "code",
      "execution_count": 4,
      "metadata": {
        "colab": {
          "base_uri": "https://localhost:8080/",
          "height": 75,
          "resources": {
            "http://localhost:8080/nbextensions/google.colab/files.js": {
              "data": "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",
              "headers": [
                [
                  "content-type",
                  "application/javascript"
                ]
              ],
              "ok": true,
              "status": 200,
              "status_text": "OK"
            }
          }
        },
        "id": "w6oc67TAVyGB",
        "outputId": "c030b2ef-c07c-4d17-9071-815e85763a0a"
      },
      "outputs": [
        {
          "output_type": "display_data",
          "data": {
            "text/plain": [
              "<IPython.core.display.HTML object>"
            ],
            "text/html": [
              "\n",
              "     <input type=\"file\" id=\"files-4649e8a4-e697-4e3d-9586-cedd1b8228e6\" name=\"files[]\" multiple disabled\n",
              "        style=\"border:none\" />\n",
              "     <output id=\"result-4649e8a4-e697-4e3d-9586-cedd1b8228e6\">\n",
              "      Upload widget is only available when the cell has been executed in the\n",
              "      current browser session. Please rerun this cell to enable.\n",
              "      </output>\n",
              "      <script src=\"/nbextensions/google.colab/files.js\"></script> "
            ]
          },
          "metadata": {}
        },
        {
          "output_type": "stream",
          "name": "stdout",
          "text": [
            "Saving data!.txt to data!.txt\n"
          ]
        }
      ],
      "source": [
        "from google.colab import files\n",
        "uploaded = files.upload()"
      ]
    },
    {
      "cell_type": "code",
      "execution_count": 5,
      "metadata": {
        "colab": {
          "base_uri": "https://localhost:8080/",
          "height": 79
        },
        "id": "jBQOSqQzo9PU",
        "outputId": "26e026ed-7634-4160-c6ab-2a3c87464e73"
      },
      "outputs": [
        {
          "output_type": "execute_result",
          "data": {
            "text/plain": [
              "Empty DataFrame\n",
              "Columns: [0.144, 0.937, 1.787, -1.052, -0.192, 0.169, 2.623, 2.135, 1.759, 0.811, 0.724, -0.110, 1.752, -0.378, 0.417, 1.360, 1.365, 2.587, 1.621, 2.344, 1.379, 0.560, 1.858, 2.453, -0.356, 1.503, -0.134, 2.950, -0.816, 0.717, 2.468, 1.131, 1.047, 1.355, 1.162, -0.491, 0.261, -0.183, 0.467, 0.502, -0.805, 0.228, 2.286, 0.364, -0.312, -0.045, 2.559, 0.129, 0.898, 0.877, 3.285, 1.554, 1.418, 0.423, -0.489, -0.255, 1.092, 0.402, -0.051, 0.020, 0.398, 1.399, 2.121, -0.026, 1.087, 2.018, -0.437, 1.661, 1.091, 0.363, 1.229, 0.416, 1.705, 1.124, 1.341, 2.320, 0.176, -0.541, 0.837, 3.329, 2.382, -0.454, 2.537, -0.299, 1.363, 0.644, 0.975, 1.294, 3.194, 0.605, 1.978, 1.109, 2.434, -0.094, 0.735, 0.143, -0.421, -0.773, 1.570, 0.947]\n",
              "Index: []\n",
              "\n",
              "[0 rows x 100 columns]"
            ],
            "text/html": [
              "\n",
              "  <div id=\"df-2d43d5c1-878e-4f4c-a38a-6611361b13e6\">\n",
              "    <div class=\"colab-df-container\">\n",
              "      <div>\n",
              "<style scoped>\n",
              "    .dataframe tbody tr th:only-of-type {\n",
              "        vertical-align: middle;\n",
              "    }\n",
              "\n",
              "    .dataframe tbody tr th {\n",
              "        vertical-align: top;\n",
              "    }\n",
              "\n",
              "    .dataframe thead th {\n",
              "        text-align: right;\n",
              "    }\n",
              "</style>\n",
              "<table border=\"1\" class=\"dataframe\">\n",
              "  <thead>\n",
              "    <tr style=\"text-align: right;\">\n",
              "      <th></th>\n",
              "      <th>0.144</th>\n",
              "      <th>0.937</th>\n",
              "      <th>1.787</th>\n",
              "      <th>-1.052</th>\n",
              "      <th>-0.192</th>\n",
              "      <th>0.169</th>\n",
              "      <th>2.623</th>\n",
              "      <th>2.135</th>\n",
              "      <th>1.759</th>\n",
              "      <th>0.811</th>\n",
              "      <th>...</th>\n",
              "      <th>1.978</th>\n",
              "      <th>1.109</th>\n",
              "      <th>2.434</th>\n",
              "      <th>-0.094</th>\n",
              "      <th>0.735</th>\n",
              "      <th>0.143</th>\n",
              "      <th>-0.421</th>\n",
              "      <th>-0.773</th>\n",
              "      <th>1.570</th>\n",
              "      <th>0.947</th>\n",
              "    </tr>\n",
              "  </thead>\n",
              "  <tbody>\n",
              "  </tbody>\n",
              "</table>\n",
              "<p>0 rows × 100 columns</p>\n",
              "</div>\n",
              "      <button class=\"colab-df-convert\" onclick=\"convertToInteractive('df-2d43d5c1-878e-4f4c-a38a-6611361b13e6')\"\n",
              "              title=\"Convert this dataframe to an interactive table.\"\n",
              "              style=\"display:none;\">\n",
              "        \n",
              "  <svg xmlns=\"http://www.w3.org/2000/svg\" height=\"24px\"viewBox=\"0 0 24 24\"\n",
              "       width=\"24px\">\n",
              "    <path d=\"M0 0h24v24H0V0z\" fill=\"none\"/>\n",
              "    <path d=\"M18.56 5.44l.94 2.06.94-2.06 2.06-.94-2.06-.94-.94-2.06-.94 2.06-2.06.94zm-11 1L8.5 8.5l.94-2.06 2.06-.94-2.06-.94L8.5 2.5l-.94 2.06-2.06.94zm10 10l.94 2.06.94-2.06 2.06-.94-2.06-.94-.94-2.06-.94 2.06-2.06.94z\"/><path d=\"M17.41 7.96l-1.37-1.37c-.4-.4-.92-.59-1.43-.59-.52 0-1.04.2-1.43.59L10.3 9.45l-7.72 7.72c-.78.78-.78 2.05 0 2.83L4 21.41c.39.39.9.59 1.41.59.51 0 1.02-.2 1.41-.59l7.78-7.78 2.81-2.81c.8-.78.8-2.07 0-2.86zM5.41 20L4 18.59l7.72-7.72 1.47 1.35L5.41 20z\"/>\n",
              "  </svg>\n",
              "      </button>\n",
              "      \n",
              "  <style>\n",
              "    .colab-df-container {\n",
              "      display:flex;\n",
              "      flex-wrap:wrap;\n",
              "      gap: 12px;\n",
              "    }\n",
              "\n",
              "    .colab-df-convert {\n",
              "      background-color: #E8F0FE;\n",
              "      border: none;\n",
              "      border-radius: 50%;\n",
              "      cursor: pointer;\n",
              "      display: none;\n",
              "      fill: #1967D2;\n",
              "      height: 32px;\n",
              "      padding: 0 0 0 0;\n",
              "      width: 32px;\n",
              "    }\n",
              "\n",
              "    .colab-df-convert:hover {\n",
              "      background-color: #E2EBFA;\n",
              "      box-shadow: 0px 1px 2px rgba(60, 64, 67, 0.3), 0px 1px 3px 1px rgba(60, 64, 67, 0.15);\n",
              "      fill: #174EA6;\n",
              "    }\n",
              "\n",
              "    [theme=dark] .colab-df-convert {\n",
              "      background-color: #3B4455;\n",
              "      fill: #D2E3FC;\n",
              "    }\n",
              "\n",
              "    [theme=dark] .colab-df-convert:hover {\n",
              "      background-color: #434B5C;\n",
              "      box-shadow: 0px 1px 3px 1px rgba(0, 0, 0, 0.15);\n",
              "      filter: drop-shadow(0px 1px 2px rgba(0, 0, 0, 0.3));\n",
              "      fill: #FFFFFF;\n",
              "    }\n",
              "  </style>\n",
              "\n",
              "      <script>\n",
              "        const buttonEl =\n",
              "          document.querySelector('#df-2d43d5c1-878e-4f4c-a38a-6611361b13e6 button.colab-df-convert');\n",
              "        buttonEl.style.display =\n",
              "          google.colab.kernel.accessAllowed ? 'block' : 'none';\n",
              "\n",
              "        async function convertToInteractive(key) {\n",
              "          const element = document.querySelector('#df-2d43d5c1-878e-4f4c-a38a-6611361b13e6');\n",
              "          const dataTable =\n",
              "            await google.colab.kernel.invokeFunction('convertToInteractive',\n",
              "                                                     [key], {});\n",
              "          if (!dataTable) return;\n",
              "\n",
              "          const docLinkHtml = 'Like what you see? Visit the ' +\n",
              "            '<a target=\"_blank\" href=https://colab.research.google.com/notebooks/data_table.ipynb>data table notebook</a>'\n",
              "            + ' to learn more about interactive tables.';\n",
              "          element.innerHTML = '';\n",
              "          dataTable['output_type'] = 'display_data';\n",
              "          await google.colab.output.renderOutput(dataTable, element);\n",
              "          const docLink = document.createElement('div');\n",
              "          docLink.innerHTML = docLinkHtml;\n",
              "          element.appendChild(docLink);\n",
              "        }\n",
              "      </script>\n",
              "    </div>\n",
              "  </div>\n",
              "  "
            ]
          },
          "metadata": {},
          "execution_count": 5
        }
      ],
      "source": [
        "data = pd.read_csv('data!.txt', sep = \"\\t\")\n",
        "data\n"
      ]
    },
    {
      "cell_type": "code",
      "execution_count": 6,
      "metadata": {
        "colab": {
          "base_uri": "https://localhost:8080/"
        },
        "id": "vHN6vXbcV75A",
        "outputId": "34785f1e-677c-43fc-e17a-64e9ea7211f5"
      },
      "outputs": [
        {
          "output_type": "stream",
          "name": "stdout",
          "text": [
            "Empty DataFrame\n",
            "Columns: [0.144, 0.937, 1.787, -1.052, -0.192, 0.169, 2.623, 2.135, 1.759, 0.811, 0.724, -0.110, 1.752, -0.378, 0.417, 1.360, 1.365, 2.587, 1.621, 2.344, 1.379, 0.560, 1.858, 2.453, -0.356, 1.503, -0.134, 2.950, -0.816, 0.717, 2.468, 1.131, 1.047, 1.355, 1.162, -0.491, 0.261, -0.183, 0.467, 0.502, -0.805, 0.228, 2.286, 0.364, -0.312, -0.045, 2.559, 0.129, 0.898, 0.877, 3.285, 1.554, 1.418, 0.423, -0.489, -0.255, 1.092, 0.402, -0.051, 0.020, 0.398, 1.399, 2.121, -0.026, 1.087, 2.018, -0.437, 1.661, 1.091, 0.363, 1.229, 0.416, 1.705, 1.124, 1.341, 2.320, 0.176, -0.541, 0.837, 3.329, 2.382, -0.454, 2.537, -0.299, 1.363, 0.644, 0.975, 1.294, 3.194, 0.605, 1.978, 1.109, 2.434, -0.094, 0.735, 0.143, -0.421, -0.773, 1.570, 0.947]\n",
            "Index: []\n",
            "\n",
            "[0 rows x 100 columns]\n"
          ]
        }
      ],
      "source": [
        "floatArray = data.astype(float)\n",
        "print(floatArray)"
      ]
    },
    {
      "cell_type": "code",
      "execution_count": 7,
      "metadata": {
        "colab": {
          "base_uri": "https://localhost:8080/"
        },
        "id": "qPuLSm8w1rzn",
        "outputId": "1ffeb234-4465-41e1-d3ec-e495475c76fd"
      },
      "outputs": [
        {
          "output_type": "stream",
          "name": "stdout",
          "text": [
            "['0.144', '0.937', '1.787', '-1.052', '-0.192', '0.169', '2.623', '2.135', '1.759', '0.811', '0.724', '-0.110', '1.752', '-0.378', '0.417', '1.360', '1.365', '2.587', '1.621', '2.344', '1.379', '0.560', '1.858', '2.453', '-0.356', '1.503', '-0.134', '2.950', '-0.816', '0.717', '2.468', '1.131', '1.047', '1.355', '1.162', '-0.491', '0.261', '-0.183', '0.467', '0.502', '-0.805', '0.228', '2.286', '0.364', '-0.312', '-0.045', '2.559', '0.129', '0.898', '0.877', '3.285', '1.554', '1.418', '0.423', '-0.489', '-0.255', '1.092', '0.402', '-0.051', '0.020', '0.398', '1.399', '2.121', '-0.026', '1.087', '2.018', '-0.437', '1.661', '1.091', '0.363', '1.229', '0.416', '1.705', '1.124', '1.341', '2.320', '0.176', '-0.541', '0.837', '3.329', '2.382', '-0.454', '2.537', '-0.299', '1.363', '0.644', '0.975', '1.294', '3.194', '0.605', '1.978', '1.109', '2.434', '-0.094', '0.735', '0.143', '-0.421', '-0.773', '1.570', '0.947']\n"
          ]
        }
      ],
      "source": [
        "str_lst = list(floatArray)\n",
        "print(str_lst)"
      ]
    },
    {
      "cell_type": "code",
      "execution_count": 8,
      "metadata": {
        "colab": {
          "base_uri": "https://localhost:8080/",
          "height": 127
        },
        "id": "Ax7yh0CI1-ld",
        "outputId": "be72a2bb-8d99-4a9b-8711-a3a2a253edbf"
      },
      "outputs": [
        {
          "output_type": "execute_result",
          "data": {
            "text/plain": [
              "\"['0.144', '0.937', '1.787', '-1.052', '-0.192', '0.169', '2.623', '2.135', '1.759', '0.811', '0.724', '-0.110', '1.752', '-0.378', '0.417', '1.360', '1.365', '2.587', '1.621', '2.344', '1.379', '0.560', '1.858', '2.453', '-0.356', '1.503', '-0.134', '2.950', '-0.816', '0.717', '2.468', '1.131', '1.047', '1.355', '1.162', '-0.491', '0.261', '-0.183', '0.467', '0.502', '-0.805', '0.228', '2.286', '0.364', '-0.312', '-0.045', '2.559', '0.129', '0.898', '0.877', '3.285', '1.554', '1.418', '0.423', '-0.489', '-0.255', '1.092', '0.402', '-0.051', '0.020', '0.398', '1.399', '2.121', '-0.026', '1.087', '2.018', '-0.437', '1.661', '1.091', '0.363', '1.229', '0.416', '1.705', '1.124', '1.341', '2.320', '0.176', '-0.541', '0.837', '3.329', '2.382', '-0.454', '2.537', '-0.299', '1.363', '0.644', '0.975', '1.294', '3.194', '0.605', '1.978', '1.109', '2.434', '-0.094', '0.735', '0.143', '-0.421', '-0.773', '1.570', '0.947']\""
            ],
            "application/vnd.google.colaboratory.intrinsic+json": {
              "type": "string"
            }
          },
          "metadata": {},
          "execution_count": 8
        }
      ],
      "source": [
        "b = str(str_lst)\n",
        "b"
      ]
    },
    {
      "cell_type": "code",
      "execution_count": 12,
      "metadata": {
        "colab": {
          "base_uri": "https://localhost:8080/"
        },
        "id": "bXu9wHoqxGm1",
        "outputId": "e8f23b26-cb89-4cc4-cddd-13f96be6dc5f"
      },
      "outputs": [
        {
          "output_type": "stream",
          "name": "stdout",
          "text": [
            "[0.144, 0.937, 1.787, -1.052, -0.192, 0.169, 2.623, 2.135, 1.759, 0.811, 0.724, -0.11, 1.752, -0.378, 0.417, 1.36, 1.365, 2.587, 1.621, 2.344, 1.379, 0.56, 1.858, 2.453, -0.356, 1.503, -0.134, 2.95, -0.816, 0.717, 2.468, 1.131, 1.047, 1.355, 1.162, -0.491, 0.261, -0.183, 0.467, 0.502, -0.805, 0.228, 2.286, 0.364, -0.312, -0.045, 2.559, 0.129, 0.898, 0.877, 3.285, 1.554, 1.418, 0.423, -0.489, -0.255, 1.092, 0.402, -0.051, 0.02, 0.398, 1.399, 2.121, -0.026, 1.087, 2.018, -0.437, 1.661, 1.091, 0.363, 1.229, 0.416, 1.705, 1.124, 1.341, 2.32, 0.176, -0.541, 0.837, 3.329, 2.382, -0.454, 2.537, -0.299, 1.363, 0.644, 0.975, 1.294, 3.194, 0.605, 1.978, 1.109, 2.434, -0.094, 0.735, 0.143, -0.421, -0.773, 1.57, 0.947]\n"
          ]
        }
      ],
      "source": [
        "float_lst = [float(x) for x in str_lst]\n",
        "print(float_lst)"
      ]
    },
    {
      "cell_type": "code",
      "source": [
        "y = list(float_lst)\n"
      ],
      "metadata": {
        "id": "VjVVUljVvNHb"
      },
      "execution_count": 31,
      "outputs": []
    },
    {
      "cell_type": "code",
      "source": [
        "x = np.array([float_lst])\n",
        "x"
      ],
      "metadata": {
        "colab": {
          "base_uri": "https://localhost:8080/"
        },
        "id": "GO7NXJ1ntwXD",
        "outputId": "d681cb94-0266-40da-9114-612c5821078e"
      },
      "execution_count": 20,
      "outputs": [
        {
          "output_type": "execute_result",
          "data": {
            "text/plain": [
              "array([[ 0.144,  0.937,  1.787, -1.052, -0.192,  0.169,  2.623,  2.135,\n",
              "         1.759,  0.811,  0.724, -0.11 ,  1.752, -0.378,  0.417,  1.36 ,\n",
              "         1.365,  2.587,  1.621,  2.344,  1.379,  0.56 ,  1.858,  2.453,\n",
              "        -0.356,  1.503, -0.134,  2.95 , -0.816,  0.717,  2.468,  1.131,\n",
              "         1.047,  1.355,  1.162, -0.491,  0.261, -0.183,  0.467,  0.502,\n",
              "        -0.805,  0.228,  2.286,  0.364, -0.312, -0.045,  2.559,  0.129,\n",
              "         0.898,  0.877,  3.285,  1.554,  1.418,  0.423, -0.489, -0.255,\n",
              "         1.092,  0.402, -0.051,  0.02 ,  0.398,  1.399,  2.121, -0.026,\n",
              "         1.087,  2.018, -0.437,  1.661,  1.091,  0.363,  1.229,  0.416,\n",
              "         1.705,  1.124,  1.341,  2.32 ,  0.176, -0.541,  0.837,  3.329,\n",
              "         2.382, -0.454,  2.537, -0.299,  1.363,  0.644,  0.975,  1.294,\n",
              "         3.194,  0.605,  1.978,  1.109,  2.434, -0.094,  0.735,  0.143,\n",
              "        -0.421, -0.773,  1.57 ,  0.947]])"
            ]
          },
          "metadata": {},
          "execution_count": 20
        }
      ]
    },
    {
      "cell_type": "markdown",
      "source": [
        "2. **Расчет выборки и мер.**"
      ],
      "metadata": {
        "id": "dn6FXKj1ySII"
      }
    },
    {
      "cell_type": "code",
      "execution_count": 43,
      "metadata": {
        "id": "4nWPyWNXuZtt",
        "colab": {
          "base_uri": "https://localhost:8080/"
        },
        "outputId": "7b0d3a89-317f-43f1-b170-8b29317ed738"
      },
      "outputs": [
        {
          "output_type": "stream",
          "name": "stdout",
          "text": [
            "sum = 93.694\n",
            "max = 3.329\n",
            "min = -1.052\n",
            "size = 100\n",
            "mean = 0.93694\n",
            "median = 0.9175\n",
            "median_low = 0.898\n",
            "median_high = 0.937\n",
            "pst_dev = 1.038439770232246\n",
            "st_dev = 1.0436712379524948\n",
            "pvariance = 1.0783571564\n",
            "variance = 1.089249652929293\n",
            "[-1.052, -0.816, -0.805, -0.773, -0.541, -0.491, -0.489, -0.454, -0.437, -0.421, -0.378, -0.356, -0.312, -0.299, -0.255, -0.192, -0.183, -0.134, -0.11, -0.094, -0.051, -0.045, -0.026, 0.02, 0.129, 0.143, 0.144, 0.169, 0.176, 0.228, 0.261, 0.363, 0.364, 0.398, 0.402, 0.416, 0.417, 0.423, 0.467, 0.502, 0.56, 0.605, 0.644, 0.717, 0.724, 0.735, 0.811, 0.837, 0.877, 0.898, 0.937, 0.947, 0.975, 1.047, 1.087, 1.091, 1.092, 1.109, 1.124, 1.131, 1.162, 1.229, 1.294, 1.341, 1.355, 1.36, 1.363, 1.365, 1.379, 1.399, 1.418, 1.503, 1.554, 1.57, 1.621, 1.661, 1.705, 1.752, 1.759, 1.787, 1.858, 1.978, 2.018, 2.121, 2.135, 2.286, 2.32, 2.344, 2.382, 2.434, 2.453, 2.468, 2.537, 2.559, 2.587, 2.623, 2.95, 3.194, 3.285, 3.329]\n",
            "100\n"
          ]
        }
      ],
      "source": [
        "print('sum =', np.sum(x))\n",
        "print('max =', np.max(x))\n",
        "print('min =', np.min(x))\n",
        "print('size =', np.size(x))\n",
        "\n",
        "print('mean =', st.mean(y)) # arithmetic mean (\"average\") of data\n",
        "print('median =', st.median(y)) # median (mean) of data\n",
        "print('median_low =', st.median_low(y)) # low median\n",
        "print('median_high =', st.median_high(y)) # high median\n",
        "print('pst_dev =', st.pstdev(y)) # population standard deviation of data\n",
        "print('st_dev =', st.stdev(y)) # standard deviation of the data sample\n",
        "print('pvariance =', st.pvariance(y)) # population variance of data\n",
        "print('variance =', st.variance(y)) # sample variance of data\n",
        "print(sorted(y))\n",
        "print(len(y))"
      ]
    },
    {
      "cell_type": "markdown",
      "source": [
        "3. **Гистограмма и функция распеределения выборки**"
      ],
      "metadata": {
        "id": "nCPipwD32FFm"
      }
    },
    {
      "cell_type": "code",
      "source": [
        "import scipy.stats as sps\n",
        "import matplotlib.pyplot as plt"
      ],
      "metadata": {
        "id": "5F5lFHU71dNu"
      },
      "execution_count": 54,
      "outputs": []
    },
    {
      "cell_type": "code",
      "source": [
        "sample = sps.norm.rvs(size=100)  # выборка размера 100\n",
        "grid = np.linspace(np.min(x), np.max(x), 100)  # сетка для построения графика\n",
        "\n",
        "plt.figure(figsize=(11, 12))\n",
        "plt.hist(sample, bins=30, density=True, alpha=0.6, label='Гистограмма выборки') # bins - целое число, последовательность целых чисел или строка (необязательный параметр).\n",
        "plt.plot(grid, sps.norm.pdf(grid), color='red', lw=5, label='Плотность случайной величины') \n",
        "plt.title(r'', fontsize=16)\n",
        "plt.legend(fontsize=14, loc=1)\n",
        "plt.grid(ls=':')\n",
        "plt.show()"
      ],
      "metadata": {
        "colab": {
          "base_uri": "https://localhost:8080/",
          "height": 700
        },
        "id": "mhBQ4Iy0wryX",
        "outputId": "f120f15d-7375-4157-fbd0-aa648fdaaf83"
      },
      "execution_count": 66,
      "outputs": [
        {
          "output_type": "display_data",
          "data": {
            "text/plain": [
              "<Figure size 792x864 with 1 Axes>"
            ],
            "image/png": "[encoded data removed]"
          },
          "metadata": {
            "needs_background": "light"
          }
        }
      ]
    }
  ],
  "metadata": {
    "colab": {
      "name": "Lesson_11.ipynb",
      "provenance": [],
      "collapsed_sections": []
    },
    "kernelspec": {
      "display_name": "Python 3",
      "name": "python3"
    },
    "language_info": {
      "name": "python"
    }
  },
  "nbformat": 4,
  "nbformat_minor": 0
}