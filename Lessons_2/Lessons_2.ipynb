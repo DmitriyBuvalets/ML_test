{
  "nbformat": 4,
  "nbformat_minor": 0,
  "metadata": {
    "colab": {
      "name": "Lessons_2.ipynb",
      "provenance": [],
      "collapsed_sections": []
    },
    "kernelspec": {
      "name": "python3",
      "display_name": "Python 3"
    },
    "language_info": {
      "name": "python"
    }
  },
  "cells": [
    {
      "cell_type": "markdown",
      "source": [
        "1) cортирует список, состоящий из списков, по второму элементу этих\n",
        "вложенных списков (по возрастанию);\n",
        "\n",
        "\n",
        "\n"
      ],
      "metadata": {
        "id": "Y878zRoJWbE6"
      }
    },
    {
      "cell_type": "code",
      "source": [
        "lst = [[1,3,3,4], [2,1,3,5], [4,0,1,7], [5,2,1,0], [0,4,8,3]]"
      ],
      "metadata": {
        "id": "b1hMZEs6Wh0v"
      },
      "execution_count": 55,
      "outputs": []
    },
    {
      "cell_type": "code",
      "source": [
        "def sort_key(e):\n",
        "  return e[1]\n",
        "\n",
        "print(sorted(lst, key=sort_key))"
      ],
      "metadata": {
        "colab": {
          "base_uri": "https://localhost:8080/"
        },
        "id": "_SGojvfw2Ctw",
        "outputId": "a4d3d164-aa60-4a7e-8993-aa6aea7fa0cb"
      },
      "execution_count": 56,
      "outputs": [
        {
          "output_type": "stream",
          "name": "stdout",
          "text": [
            "[[4, 0, 1, 7], [2, 1, 3, 5], [5, 2, 1, 0], [1, 3, 3, 4], [0, 4, 8, 3]]\n"
          ]
        }
      ]
    },
    {
      "cell_type": "code",
      "source": [
        "lst2 = sorted(lst, key=sort_key)\n",
        "print(lst2)"
      ],
      "metadata": {
        "colab": {
          "base_uri": "https://localhost:8080/"
        },
        "id": "NTBVC5jc2HA-",
        "outputId": "7014e495-718c-4613-f917-cc3fe67c3290"
      },
      "execution_count": 57,
      "outputs": [
        {
          "output_type": "stream",
          "name": "stdout",
          "text": [
            "[[4, 0, 1, 7], [2, 1, 3, 5], [5, 2, 1, 0], [1, 3, 3, 4], [0, 4, 8, 3]]\n"
          ]
        }
      ]
    },
    {
      "cell_type": "markdown",
      "source": [
        "2) cоздает словарь, ключами в котором являются вторые элемент отсор-\n",
        "тированной структуры данных (из пункта 1), а значениями – списки из\n",
        "остальных элементов (первый, третий, четвертый);\n"
      ],
      "metadata": {
        "id": "5ymLx5172TTy"
      }
    },
    {
      "cell_type": "code",
      "source": [
        "key = [0, 1, 2, 3, 4]\n",
        "value = [[4, 1, 7], [2, 3, 5], [5, 1, 0], [1, 3, 4], [0, 8, 3]]\n",
        "D = {k:v for k, v in zip(key, value)}\n",
        "print(D)"
      ],
      "metadata": {
        "colab": {
          "base_uri": "https://localhost:8080/"
        },
        "id": "e55WMJGE2YZF",
        "outputId": "067f5388-15d4-4821-d9e9-30bc4a99ac8c"
      },
      "execution_count": 58,
      "outputs": [
        {
          "output_type": "stream",
          "name": "stdout",
          "text": [
            "{0: [4, 1, 7], 1: [2, 3, 5], 2: [5, 1, 0], 3: [1, 3, 4], 4: [0, 8, 3]}\n"
          ]
        }
      ]
    },
    {
      "cell_type": "markdown",
      "source": [
        ""
      ],
      "metadata": {
        "id": "bwfUGVUD4DMs"
      }
    },
    {
      "cell_type": "markdown",
      "source": [
        "3) сортирует значения полученного словаря (списки) по убыванию;"
      ],
      "metadata": {
        "id": "x5VL6ba84O0N"
      }
    },
    {
      "cell_type": "code",
      "source": [
        "Ks = list(D.keys())\n",
        "print(Ks)\n",
        "Ks.reverse()\n",
        "print(Ks)\n",
        "\n",
        "print('\\n')\n",
        "\n",
        "for key in sorted(D, reverse=True):\n",
        "  print(key, '=>', D[key])\n",
        "\n"
      ],
      "metadata": {
        "colab": {
          "base_uri": "https://localhost:8080/"
        },
        "id": "pfAqPB6T4VIF",
        "outputId": "7076d0fb-b8f0-42f9-aa79-890662961a58"
      },
      "execution_count": 59,
      "outputs": [
        {
          "output_type": "stream",
          "name": "stdout",
          "text": [
            "[0, 1, 2, 3, 4]\n",
            "[4, 3, 2, 1, 0]\n",
            "\n",
            "\n",
            "4 => [0, 8, 3]\n",
            "3 => [1, 3, 4]\n",
            "2 => [5, 1, 0]\n",
            "1 => [2, 3, 5]\n",
            "0 => [4, 1, 7]\n"
          ]
        }
      ]
    },
    {
      "cell_type": "code",
      "source": [
        "print(D.values())\n",
        "dv = list(D.values())"
      ],
      "metadata": {
        "colab": {
          "base_uri": "https://localhost:8080/"
        },
        "id": "Fj5XgYKOArIv",
        "outputId": "5be5e426-bfe4-4075-a1e7-5fbb8d6e8dc0"
      },
      "execution_count": 64,
      "outputs": [
        {
          "output_type": "stream",
          "name": "stdout",
          "text": [
            "dict_values([[4, 1, 7], [2, 3, 5], [5, 1, 0], [1, 3, 4], [0, 8, 3]])\n"
          ]
        }
      ]
    },
    {
      "cell_type": "markdown",
      "source": [
        "4) получает множество из всех значений (отсортированных списков)\n",
        "полученного словаря;\n"
      ],
      "metadata": {
        "id": "Rizs62NC7OMy"
      }
    },
    {
      "cell_type": "code",
      "source": [
        "print(D.items())\n",
        "m = set(D)\n",
        "print(m)"
      ],
      "metadata": {
        "colab": {
          "base_uri": "https://localhost:8080/"
        },
        "id": "UELor-jY7QnH",
        "outputId": "350c4db2-f226-4cad-faeb-55384b3ff347"
      },
      "execution_count": 74,
      "outputs": [
        {
          "output_type": "stream",
          "name": "stdout",
          "text": [
            "dict_items([(0, [4, 1, 7]), (1, [2, 3, 5]), (2, [5, 1, 0]), (3, [1, 3, 4]), (4, [0, 8, 3])])\n",
            "{0, 1, 2, 3, 4}\n"
          ]
        }
      ]
    },
    {
      "cell_type": "markdown",
      "source": [
        "5) преобразует множество в строку."
      ],
      "metadata": {
        "id": "dsbdpVnY8Tin"
      }
    },
    {
      "cell_type": "code",
      "source": [
        "ln = list(m)\n",
        "print(*list(ln))\n",
        "print(\" \".join(map(str,ln)))"
      ],
      "metadata": {
        "colab": {
          "base_uri": "https://localhost:8080/"
        },
        "id": "OmSCtUfv8Xb9",
        "outputId": "e9c913b0-92c2-4592-a6c4-954697f55755"
      },
      "execution_count": 81,
      "outputs": [
        {
          "output_type": "stream",
          "name": "stdout",
          "text": [
            "0 1 2 3 4\n",
            "0 1 2 3 4\n"
          ]
        }
      ]
    }
  ]
}