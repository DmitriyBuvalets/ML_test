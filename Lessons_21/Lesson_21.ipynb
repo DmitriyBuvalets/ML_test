{
  "nbformat": 4,
  "nbformat_minor": 0,
  "metadata": {
    "colab": {
      "name": "Lesson_21.ipynb",
      "provenance": [],
      "collapsed_sections": []
    },
    "kernelspec": {
      "name": "python3",
      "display_name": "Python 3"
    },
    "language_info": {
      "name": "python"
    }
  },
  "cells": [
    {
      "cell_type": "code",
      "execution_count": 1,
      "metadata": {
        "id": "c-_Jm7W3jGhw"
      },
      "outputs": [],
      "source": [
        "import gensim"
      ]
    },
    {
      "cell_type": "code",
      "source": [
        "# Google drive mount\n",
        "from google.colab import drive\n",
        "drive.mount('/content/drive')"
      ],
      "metadata": {
        "colab": {
          "base_uri": "https://localhost:8080/"
        },
        "id": "cerc3lKClF9D",
        "outputId": "4b0b5159-1cb5-47f9-a531-150671965364"
      },
      "execution_count": 2,
      "outputs": [
        {
          "output_type": "stream",
          "name": "stdout",
          "text": [
            "Mounted at /content/drive\n"
          ]
        }
      ]
    },
    {
      "cell_type": "code",
      "source": [
        "# Setup the train and test directories\n",
        "text_file = \"drive/MyDrive/Colab Notebooks/dataset.txt\"\n",
        "\n",
        "print(text_file)"
      ],
      "metadata": {
        "colab": {
          "base_uri": "https://localhost:8080/"
        },
        "id": "NIgGrnRwld_n",
        "outputId": "2182f21f-f3b2-46f3-bda6-99115df2e921"
      },
      "execution_count": 8,
      "outputs": [
        {
          "output_type": "stream",
          "name": "stdout",
          "text": [
            "drive/MyDrive/Colab Notebooks/dataset.txt\n"
          ]
        }
      ]
    },
    {
      "cell_type": "code",
      "source": [
        "# read all lines at once\n",
        "with open(text_file, 'r', encoding= 'unicode_escape') as f:\n",
        "    lines = f.readlines()\n",
        "print(lines[2100:2103])"
      ],
      "metadata": {
        "colab": {
          "base_uri": "https://localhost:8080/"
        },
        "id": "gNFk2crKlnmI",
        "outputId": "b2b290c7-6af2-4b80-bc94-d7da24ae2ae4"
      },
      "execution_count": 9,
      "outputs": [
        {
          "output_type": "stream",
          "name": "stdout",
          "text": [
            "[\"'But it's never cared,' said Skimmer. 'Up until now. And now it wants to rip the top off the country and take what's underneath, mmph, mmhm.'\\n\", 'Ah, thought Vimes, our killer clerk does have more than one emotion.\\n', \"'Ankh-Morpork has always tried to get on well with other nations,' said Sybil. 'Well, these days, at least.'\\n\"]\n"
          ]
        }
      ]
    },
    {
      "cell_type": "code",
      "source": [
        "# process sentences to tokens\n",
        "processed_lines = [gensim.utils.simple_preprocess(sentence) for sentence in lines]"
      ],
      "metadata": {
        "id": "alRWVZhGl7h2"
      },
      "execution_count": 10,
      "outputs": []
    },
    {
      "cell_type": "code",
      "source": [
        "print(processed_lines[2100:2105])"
      ],
      "metadata": {
        "colab": {
          "base_uri": "https://localhost:8080/"
        },
        "id": "zd02qu7ko1TA",
        "outputId": "f8fe501b-d645-4637-e743-d5bd58e50b51"
      },
      "execution_count": 11,
      "outputs": [
        {
          "output_type": "stream",
          "name": "stdout",
          "text": [
            "[['but', 'it', 'never', 'cared', 'said', 'skimmer', 'up', 'until', 'now', 'and', 'now', 'it', 'wants', 'to', 'rip', 'the', 'top', 'off', 'the', 'country', 'and', 'take', 'what', 'underneath', 'mmph', 'mmhm'], ['ah', 'thought', 'vimes', 'our', 'killer', 'clerk', 'does', 'have', 'more', 'than', 'one', 'emotion'], ['ankh', 'morpork', 'has', 'always', 'tried', 'to', 'get', 'on', 'well', 'with', 'other', 'nations', 'said', 'sybil', 'well', 'these', 'days', 'at', 'least'], ['don', 'think', 'we', 'exactly', 'try', 'dear', 'said', 'vimes', 'it', 'just', 'that', 'we', 'found', 'that', 'why', 're', 'we', 'stopping'], ['he', 'pulled', 'down', 'the', 'window', 'what', 'happening', 'sergeant']]\n"
          ]
        }
      ]
    },
    {
      "cell_type": "code",
      "source": [
        "# create word list from token using utf8 encoding\n",
        "word_list = [word for words in processed_lines for word in words]"
      ],
      "metadata": {
        "id": "LJvYLJmYo7Ds"
      },
      "execution_count": 12,
      "outputs": []
    },
    {
      "cell_type": "code",
      "source": [
        "# check the length of the list\n",
        "print('Length: ', len(word_list))"
      ],
      "metadata": {
        "colab": {
          "base_uri": "https://localhost:8080/"
        },
        "id": "1XEOn9VTo8GH",
        "outputId": "eedaec5a-e2cc-437a-dac2-8717b588d69b"
      },
      "execution_count": 13,
      "outputs": [
        {
          "output_type": "stream",
          "name": "stdout",
          "text": [
            "Length:  101044\n"
          ]
        }
      ]
    },
    {
      "cell_type": "code",
      "source": [
        "# check five words\n",
        "print(word_list[2100:2105])"
      ],
      "metadata": {
        "colab": {
          "base_uri": "https://localhost:8080/"
        },
        "id": "ILpcwUpHo-4W",
        "outputId": "c949d1e5-6051-4c9b-eb21-5fd8cbf123be"
      },
      "execution_count": 15,
      "outputs": [
        {
          "output_type": "stream",
          "name": "stdout",
          "text": [
            "['he', 'shouted', 'aw', 'must', 'we']\n"
          ]
        }
      ]
    },
    {
      "cell_type": "code",
      "source": [
        "model = gensim.models.Word2Vec(\n",
        "    [word_list],\n",
        "    negative = 10, # negative sampling how many \"noise words\" should be drawn\n",
        "    iter = 100,\n",
        "    min_count = 1, # ignores all words with total frequency lower than this\n",
        "    window = 7, # maximum distance between the current and predicted word\n",
        "    size = 40 # dimension of the word vector\n",
        "    )"
      ],
      "metadata": {
        "id": "M5hUDQXOpN0a"
      },
      "execution_count": 16,
      "outputs": []
    },
    {
      "cell_type": "code",
      "source": [
        "print(model.wv['he'])"
      ],
      "metadata": {
        "colab": {
          "base_uri": "https://localhost:8080/"
        },
        "id": "26qlodfcpRS5",
        "outputId": "df0edb10-22c7-41a3-e5fe-9cf8d3483022"
      },
      "execution_count": 18,
      "outputs": [
        {
          "output_type": "stream",
          "name": "stdout",
          "text": [
            "[ 0.09000594  2.3026462  -1.6785553  -0.56642425  0.9963058   0.7567505\n",
            " -0.28026736  1.0093896  -0.17157541 -0.90932167  0.35123393 -0.97855073\n",
            " -0.5086288   1.0880272  -0.0650894  -0.12275539  0.5658572   1.7014415\n",
            " -0.71361613  1.6612295  -1.59704    -0.17297661  0.5013771   1.3327591\n",
            "  0.5883837   0.25945544 -1.8313568   0.26079226 -0.8424301   3.0796604\n",
            " -1.3353548   1.9789115  -0.4807216  -1.8339282   0.00654534  0.96218735\n",
            "  0.7048919   1.9878603   0.08331054 -1.1993016 ]\n"
          ]
        }
      ]
    },
    {
      "cell_type": "code",
      "source": [
        "print(model.wv['and'])"
      ],
      "metadata": {
        "colab": {
          "base_uri": "https://localhost:8080/"
        },
        "id": "_Qu_gBxrpW9Y",
        "outputId": "d5dbd2d1-39ad-43ff-8db6-1d2ac1606e09"
      },
      "execution_count": 23,
      "outputs": [
        {
          "output_type": "stream",
          "name": "stdout",
          "text": [
            "[ 1.5329118   0.74594086 -1.6432936  -1.1940209   0.5076787   0.89406383\n",
            "  0.12276209 -0.06524452  0.09255071  1.5539902   0.8052821   0.85143703\n",
            "  0.794774   -0.09461673 -0.1700565  -1.09236    -0.411806    1.2547437\n",
            "  1.3144072   0.8496525  -0.00752541 -1.4032689   0.608398   -0.50958747\n",
            " -1.530054    0.17319436 -0.74233454 -0.74684167  1.1676917   1.7259591\n",
            " -1.2296201   1.3267307  -0.1219243  -0.8517497  -1.0871166  -1.1684201\n",
            " -1.7563635   0.8421795   1.3309423  -0.4744256 ]\n"
          ]
        }
      ]
    },
    {
      "cell_type": "code",
      "source": [
        "print(model.wv.most_similar('elephant', topn=5))  # get similar words"
      ],
      "metadata": {
        "colab": {
          "base_uri": "https://localhost:8080/"
        },
        "id": "itwvNwpQpZ6Z",
        "outputId": "2254aefc-3b66-435a-99f0-83c3a874d608"
      },
      "execution_count": 24,
      "outputs": [
        {
          "output_type": "stream",
          "name": "stdout",
          "text": [
            "[('fifth', 0.9847407341003418), ('angry', 0.966874897480011), ('millions', 0.9501312375068665), ('tons', 0.9499959945678711), ('whalebone', 0.9475234150886536)]\n"
          ]
        }
      ]
    },
    {
      "cell_type": "code",
      "source": [
        "model.wv.similarity('mrs', 'she')"
      ],
      "metadata": {
        "colab": {
          "base_uri": "https://localhost:8080/"
        },
        "id": "zD1DXUDhpq5z",
        "outputId": "f64c97be-eff1-43d4-ad49-6320b4d56677"
      },
      "execution_count": 25,
      "outputs": [
        {
          "output_type": "execute_result",
          "data": {
            "text/plain": [
              "0.3877531"
            ]
          },
          "metadata": {},
          "execution_count": 25
        }
      ]
    },
    {
      "cell_type": "code",
      "source": [
        "model.wv.similarity('sir', 'elephant')"
      ],
      "metadata": {
        "colab": {
          "base_uri": "https://localhost:8080/"
        },
        "id": "rR_-IBCPpq_K",
        "outputId": "388dd803-ae91-433f-f1fa-ef1f1939c5a2"
      },
      "execution_count": 28,
      "outputs": [
        {
          "output_type": "execute_result",
          "data": {
            "text/plain": [
              "0.14341593"
            ]
          },
          "metadata": {},
          "execution_count": 28
        }
      ]
    },
    {
      "cell_type": "code",
      "source": [
        "model.wv.similarity('elephant', 'elephant')"
      ],
      "metadata": {
        "colab": {
          "base_uri": "https://localhost:8080/"
        },
        "id": "o9vmZW_3pust",
        "outputId": "3637092f-8830-4024-bc86-79ec2e73ec9d"
      },
      "execution_count": 29,
      "outputs": [
        {
          "output_type": "execute_result",
          "data": {
            "text/plain": [
              "1.0"
            ]
          },
          "metadata": {},
          "execution_count": 29
        }
      ]
    },
    {
      "cell_type": "code",
      "source": [
        "model.most_similar(positive=['woman', 'king'], negative=['man'])"
      ],
      "metadata": {
        "colab": {
          "base_uri": "https://localhost:8080/"
        },
        "id": "xqpbfIzvsB-z",
        "outputId": "36db848f-9cbc-4099-b1c8-f256865ade13"
      },
      "execution_count": 30,
      "outputs": [
        {
          "output_type": "stream",
          "name": "stderr",
          "text": [
            "/usr/local/lib/python3.7/dist-packages/ipykernel_launcher.py:1: DeprecationWarning: Call to deprecated `most_similar` (Method will be removed in 4.0.0, use self.wv.most_similar() instead).\n",
            "  \"\"\"Entry point for launching an IPython kernel.\n"
          ]
        },
        {
          "output_type": "execute_result",
          "data": {
            "text/plain": [
              "[('principalities', 0.8147658109664917),\n",
              " ('wave', 0.8001747131347656),\n",
              " ('rhysson', 0.7934685945510864),\n",
              " ('senior', 0.7921526432037354),\n",
              " ('rhys', 0.7842260003089905),\n",
              " ('frothy', 0.7837520241737366),\n",
              " ('engineer', 0.7815768718719482),\n",
              " ('daughters', 0.7735103368759155),\n",
              " ('prosperity', 0.7728802561759949),\n",
              " ('though', 0.7693667411804199)]"
            ]
          },
          "metadata": {},
          "execution_count": 30
        }
      ]
    },
    {
      "cell_type": "code",
      "source": [
        "model.most_similar_cosmul(positive=['she', 'sir'], negative=['he'])"
      ],
      "metadata": {
        "colab": {
          "base_uri": "https://localhost:8080/"
        },
        "id": "kIjuzh5psRQY",
        "outputId": "854a1ead-601e-47cd-940d-36e1bf52399d"
      },
      "execution_count": 33,
      "outputs": [
        {
          "output_type": "stream",
          "name": "stderr",
          "text": [
            "/usr/local/lib/python3.7/dist-packages/ipykernel_launcher.py:1: DeprecationWarning: Call to deprecated `most_similar_cosmul` (Method will be removed in 4.0.0, use self.wv.most_similar_cosmul() instead).\n",
            "  \"\"\"Entry point for launching an IPython kernel.\n"
          ]
        },
        {
          "output_type": "execute_result",
          "data": {
            "text/plain": [
              "[('check', 1.0196564197540283),\n",
              " ('flint', 0.9843168258666992),\n",
              " ('elegant', 0.9775308966636658),\n",
              " ('firepower', 0.9583713412284851),\n",
              " ('permission', 0.9550015926361084),\n",
              " ('whine', 0.9268373847007751),\n",
              " ('upgrade', 0.9090000987052917),\n",
              " ('assisted', 0.8977051377296448),\n",
              " ('nudging', 0.8919122219085693),\n",
              " ('pooled', 0.888483464717865)]"
            ]
          },
          "metadata": {},
          "execution_count": 33
        }
      ]
    },
    {
      "cell_type": "markdown",
      "source": [
        "**SpaCy**"
      ],
      "metadata": {
        "id": "EJ61xStftQvV"
      }
    },
    {
      "cell_type": "code",
      "source": [
        "import spacy"
      ],
      "metadata": {
        "id": "5ClQBKOFtI1y"
      },
      "execution_count": 41,
      "outputs": []
    },
    {
      "cell_type": "code",
      "source": [
        "sp = spacy.load('en_core_web_sm')\n",
        "nlp = spacy.load('en')"
      ],
      "metadata": {
        "id": "3eYXcQygtI6e"
      },
      "execution_count": 47,
      "outputs": []
    },
    {
      "cell_type": "code",
      "source": [
        "doc = nlp(\"\"\"But it's never cared,' said Skimmer. 'Up until now. And now it wants to rip the top off the country and take what's underneath, mmph, mmhm.\"\"\")"
      ],
      "metadata": {
        "id": "zcda5LaVtQCF"
      },
      "execution_count": 48,
      "outputs": []
    },
    {
      "cell_type": "code",
      "source": [
        "print([w.text for w in doc])"
      ],
      "metadata": {
        "colab": {
          "base_uri": "https://localhost:8080/"
        },
        "id": "SOpYrtTBtfRr",
        "outputId": "f8d5d4f6-81d6-4956-e675-68a415cc31d8"
      },
      "execution_count": 50,
      "outputs": [
        {
          "output_type": "stream",
          "name": "stdout",
          "text": [
            "['But', 'it', \"'s\", 'never', 'cared', ',', \"'\", 'said', 'Skimmer', '.', \"'\", 'Up', 'until', 'now', '.', 'And', 'now', 'it', 'wants', 'to', 'rip', 'the', 'top', 'off', 'the', 'country', 'and', 'take', 'what', \"'s\", 'underneath', ',', 'mmph', ',', 'mmhm', '.']\n"
          ]
        }
      ]
    },
    {
      "cell_type": "code",
      "source": [
        "for token in doc:\n",
        "  print(token.text, token.lemma_)"
      ],
      "metadata": {
        "colab": {
          "base_uri": "https://localhost:8080/"
        },
        "id": "RmgWT7QfuxLq",
        "outputId": "97c150b4-24cf-4271-ece2-4e338f3f0b0a"
      },
      "execution_count": 52,
      "outputs": [
        {
          "output_type": "stream",
          "name": "stdout",
          "text": [
            "But but\n",
            "it -PRON-\n",
            "'s be\n",
            "never never\n",
            "cared care\n",
            ", ,\n",
            "' '\n",
            "said say\n",
            "Skimmer Skimmer\n",
            ". .\n",
            "' '\n",
            "Up up\n",
            "until until\n",
            "now now\n",
            ". .\n",
            "And and\n",
            "now now\n",
            "it -PRON-\n",
            "wants want\n",
            "to to\n",
            "rip rip\n",
            "the the\n",
            "top top\n",
            "off off\n",
            "the the\n",
            "country country\n",
            "and and\n",
            "take take\n",
            "what what\n",
            "'s be\n",
            "underneath underneath\n",
            ", ,\n",
            "mmph mmph\n",
            ", ,\n",
            "mmhm mmhm\n",
            ". .\n"
          ]
        }
      ]
    },
    {
      "cell_type": "code",
      "source": [
        "for token in doc:\n",
        "  if token.ent_type != 0:\n",
        "    print(token.text, token.ent_type_)"
      ],
      "metadata": {
        "colab": {
          "base_uri": "https://localhost:8080/"
        },
        "id": "e9c63o6Tu27F",
        "outputId": "56d2f36c-f34e-46d0-9c7f-52327bd9dbf8"
      },
      "execution_count": 53,
      "outputs": [
        {
          "output_type": "stream",
          "name": "stdout",
          "text": [
            "Skimmer PERSON\n"
          ]
        }
      ]
    },
    {
      "cell_type": "code",
      "source": [
        "import pandas as pd\n",
        "result_list = []\n",
        "for token in doc:\n",
        "  result_list.append([token.text, token.pos_, token.tag_, token.dep_])\n",
        "\n",
        "df = pd.DataFrame(result_list, columns=['TEXT', 'POS_', 'TAG_', 'DEP_'])\n",
        "df"
      ],
      "metadata": {
        "colab": {
          "base_uri": "https://localhost:8080/",
          "height": 1000
        },
        "id": "ZI6ZxjkbvHY8",
        "outputId": "f2d784b6-27e6-41bd-e274-45a30922671e"
      },
      "execution_count": 54,
      "outputs": [
        {
          "output_type": "execute_result",
          "data": {
            "text/plain": [
              "          TEXT   POS_ TAG_       DEP_\n",
              "0          But  CCONJ   CC         cc\n",
              "1           it   PRON  PRP  nsubjpass\n",
              "2           's    AUX  VBZ    auxpass\n",
              "3        never    ADV   RB        neg\n",
              "4        cared   VERB  VBN      ccomp\n",
              "5            ,  PUNCT    ,      punct\n",
              "6            '  PUNCT   ''      punct\n",
              "7         said   VERB  VBD       ROOT\n",
              "8      Skimmer  PROPN  NNP      nsubj\n",
              "9            .  PUNCT    .      punct\n",
              "10           '  PUNCT   ''      punct\n",
              "11          Up    ADV   RB       ROOT\n",
              "12       until    ADP   IN       prep\n",
              "13         now    ADV   RB      pcomp\n",
              "14           .  PUNCT    .      punct\n",
              "15         And  CCONJ   CC         cc\n",
              "16         now    ADV   RB     advmod\n",
              "17          it   PRON  PRP      nsubj\n",
              "18       wants   VERB  VBZ       ROOT\n",
              "19          to   PART   TO        aux\n",
              "20         rip   VERB   VB      xcomp\n",
              "21         the    DET   DT        det\n",
              "22         top   NOUN   NN       dobj\n",
              "23         off    ADP   IN       prep\n",
              "24         the    DET   DT        det\n",
              "25     country   NOUN   NN       pobj\n",
              "26         and  CCONJ   CC         cc\n",
              "27        take   VERB   VB       conj\n",
              "28        what   PRON   WP      nsubj\n",
              "29          's    AUX  VBZ      ccomp\n",
              "30  underneath    ADJ   JJ      acomp\n",
              "31           ,  PUNCT    ,      punct\n",
              "32        mmph  PROPN  NNP       nmod\n",
              "33           ,  PUNCT    ,      punct\n",
              "34        mmhm  PROPN  NNP       dobj\n",
              "35           .  PUNCT    .      punct"
            ],
            "text/html": [
              "\n",
              "  <div id=\"df-415f4abe-6c41-4fc6-85c7-dd59888e9fb0\">\n",
              "    <div class=\"colab-df-container\">\n",
              "      <div>\n",
              "<style scoped>\n",
              "    .dataframe tbody tr th:only-of-type {\n",
              "        vertical-align: middle;\n",
              "    }\n",
              "\n",
              "    .dataframe tbody tr th {\n",
              "        vertical-align: top;\n",
              "    }\n",
              "\n",
              "    .dataframe thead th {\n",
              "        text-align: right;\n",
              "    }\n",
              "</style>\n",
              "<table border=\"1\" class=\"dataframe\">\n",
              "  <thead>\n",
              "    <tr style=\"text-align: right;\">\n",
              "      <th></th>\n",
              "      <th>TEXT</th>\n",
              "      <th>POS_</th>\n",
              "      <th>TAG_</th>\n",
              "      <th>DEP_</th>\n",
              "    </tr>\n",
              "  </thead>\n",
              "  <tbody>\n",
              "    <tr>\n",
              "      <th>0</th>\n",
              "      <td>But</td>\n",
              "      <td>CCONJ</td>\n",
              "      <td>CC</td>\n",
              "      <td>cc</td>\n",
              "    </tr>\n",
              "    <tr>\n",
              "      <th>1</th>\n",
              "      <td>it</td>\n",
              "      <td>PRON</td>\n",
              "      <td>PRP</td>\n",
              "      <td>nsubjpass</td>\n",
              "    </tr>\n",
              "    <tr>\n",
              "      <th>2</th>\n",
              "      <td>'s</td>\n",
              "      <td>AUX</td>\n",
              "      <td>VBZ</td>\n",
              "      <td>auxpass</td>\n",
              "    </tr>\n",
              "    <tr>\n",
              "      <th>3</th>\n",
              "      <td>never</td>\n",
              "      <td>ADV</td>\n",
              "      <td>RB</td>\n",
              "      <td>neg</td>\n",
              "    </tr>\n",
              "    <tr>\n",
              "      <th>4</th>\n",
              "      <td>cared</td>\n",
              "      <td>VERB</td>\n",
              "      <td>VBN</td>\n",
              "      <td>ccomp</td>\n",
              "    </tr>\n",
              "    <tr>\n",
              "      <th>5</th>\n",
              "      <td>,</td>\n",
              "      <td>PUNCT</td>\n",
              "      <td>,</td>\n",
              "      <td>punct</td>\n",
              "    </tr>\n",
              "    <tr>\n",
              "      <th>6</th>\n",
              "      <td>'</td>\n",
              "      <td>PUNCT</td>\n",
              "      <td>''</td>\n",
              "      <td>punct</td>\n",
              "    </tr>\n",
              "    <tr>\n",
              "      <th>7</th>\n",
              "      <td>said</td>\n",
              "      <td>VERB</td>\n",
              "      <td>VBD</td>\n",
              "      <td>ROOT</td>\n",
              "    </tr>\n",
              "    <tr>\n",
              "      <th>8</th>\n",
              "      <td>Skimmer</td>\n",
              "      <td>PROPN</td>\n",
              "      <td>NNP</td>\n",
              "      <td>nsubj</td>\n",
              "    </tr>\n",
              "    <tr>\n",
              "      <th>9</th>\n",
              "      <td>.</td>\n",
              "      <td>PUNCT</td>\n",
              "      <td>.</td>\n",
              "      <td>punct</td>\n",
              "    </tr>\n",
              "    <tr>\n",
              "      <th>10</th>\n",
              "      <td>'</td>\n",
              "      <td>PUNCT</td>\n",
              "      <td>''</td>\n",
              "      <td>punct</td>\n",
              "    </tr>\n",
              "    <tr>\n",
              "      <th>11</th>\n",
              "      <td>Up</td>\n",
              "      <td>ADV</td>\n",
              "      <td>RB</td>\n",
              "      <td>ROOT</td>\n",
              "    </tr>\n",
              "    <tr>\n",
              "      <th>12</th>\n",
              "      <td>until</td>\n",
              "      <td>ADP</td>\n",
              "      <td>IN</td>\n",
              "      <td>prep</td>\n",
              "    </tr>\n",
              "    <tr>\n",
              "      <th>13</th>\n",
              "      <td>now</td>\n",
              "      <td>ADV</td>\n",
              "      <td>RB</td>\n",
              "      <td>pcomp</td>\n",
              "    </tr>\n",
              "    <tr>\n",
              "      <th>14</th>\n",
              "      <td>.</td>\n",
              "      <td>PUNCT</td>\n",
              "      <td>.</td>\n",
              "      <td>punct</td>\n",
              "    </tr>\n",
              "    <tr>\n",
              "      <th>15</th>\n",
              "      <td>And</td>\n",
              "      <td>CCONJ</td>\n",
              "      <td>CC</td>\n",
              "      <td>cc</td>\n",
              "    </tr>\n",
              "    <tr>\n",
              "      <th>16</th>\n",
              "      <td>now</td>\n",
              "      <td>ADV</td>\n",
              "      <td>RB</td>\n",
              "      <td>advmod</td>\n",
              "    </tr>\n",
              "    <tr>\n",
              "      <th>17</th>\n",
              "      <td>it</td>\n",
              "      <td>PRON</td>\n",
              "      <td>PRP</td>\n",
              "      <td>nsubj</td>\n",
              "    </tr>\n",
              "    <tr>\n",
              "      <th>18</th>\n",
              "      <td>wants</td>\n",
              "      <td>VERB</td>\n",
              "      <td>VBZ</td>\n",
              "      <td>ROOT</td>\n",
              "    </tr>\n",
              "    <tr>\n",
              "      <th>19</th>\n",
              "      <td>to</td>\n",
              "      <td>PART</td>\n",
              "      <td>TO</td>\n",
              "      <td>aux</td>\n",
              "    </tr>\n",
              "    <tr>\n",
              "      <th>20</th>\n",
              "      <td>rip</td>\n",
              "      <td>VERB</td>\n",
              "      <td>VB</td>\n",
              "      <td>xcomp</td>\n",
              "    </tr>\n",
              "    <tr>\n",
              "      <th>21</th>\n",
              "      <td>the</td>\n",
              "      <td>DET</td>\n",
              "      <td>DT</td>\n",
              "      <td>det</td>\n",
              "    </tr>\n",
              "    <tr>\n",
              "      <th>22</th>\n",
              "      <td>top</td>\n",
              "      <td>NOUN</td>\n",
              "      <td>NN</td>\n",
              "      <td>dobj</td>\n",
              "    </tr>\n",
              "    <tr>\n",
              "      <th>23</th>\n",
              "      <td>off</td>\n",
              "      <td>ADP</td>\n",
              "      <td>IN</td>\n",
              "      <td>prep</td>\n",
              "    </tr>\n",
              "    <tr>\n",
              "      <th>24</th>\n",
              "      <td>the</td>\n",
              "      <td>DET</td>\n",
              "      <td>DT</td>\n",
              "      <td>det</td>\n",
              "    </tr>\n",
              "    <tr>\n",
              "      <th>25</th>\n",
              "      <td>country</td>\n",
              "      <td>NOUN</td>\n",
              "      <td>NN</td>\n",
              "      <td>pobj</td>\n",
              "    </tr>\n",
              "    <tr>\n",
              "      <th>26</th>\n",
              "      <td>and</td>\n",
              "      <td>CCONJ</td>\n",
              "      <td>CC</td>\n",
              "      <td>cc</td>\n",
              "    </tr>\n",
              "    <tr>\n",
              "      <th>27</th>\n",
              "      <td>take</td>\n",
              "      <td>VERB</td>\n",
              "      <td>VB</td>\n",
              "      <td>conj</td>\n",
              "    </tr>\n",
              "    <tr>\n",
              "      <th>28</th>\n",
              "      <td>what</td>\n",
              "      <td>PRON</td>\n",
              "      <td>WP</td>\n",
              "      <td>nsubj</td>\n",
              "    </tr>\n",
              "    <tr>\n",
              "      <th>29</th>\n",
              "      <td>'s</td>\n",
              "      <td>AUX</td>\n",
              "      <td>VBZ</td>\n",
              "      <td>ccomp</td>\n",
              "    </tr>\n",
              "    <tr>\n",
              "      <th>30</th>\n",
              "      <td>underneath</td>\n",
              "      <td>ADJ</td>\n",
              "      <td>JJ</td>\n",
              "      <td>acomp</td>\n",
              "    </tr>\n",
              "    <tr>\n",
              "      <th>31</th>\n",
              "      <td>,</td>\n",
              "      <td>PUNCT</td>\n",
              "      <td>,</td>\n",
              "      <td>punct</td>\n",
              "    </tr>\n",
              "    <tr>\n",
              "      <th>32</th>\n",
              "      <td>mmph</td>\n",
              "      <td>PROPN</td>\n",
              "      <td>NNP</td>\n",
              "      <td>nmod</td>\n",
              "    </tr>\n",
              "    <tr>\n",
              "      <th>33</th>\n",
              "      <td>,</td>\n",
              "      <td>PUNCT</td>\n",
              "      <td>,</td>\n",
              "      <td>punct</td>\n",
              "    </tr>\n",
              "    <tr>\n",
              "      <th>34</th>\n",
              "      <td>mmhm</td>\n",
              "      <td>PROPN</td>\n",
              "      <td>NNP</td>\n",
              "      <td>dobj</td>\n",
              "    </tr>\n",
              "    <tr>\n",
              "      <th>35</th>\n",
              "      <td>.</td>\n",
              "      <td>PUNCT</td>\n",
              "      <td>.</td>\n",
              "      <td>punct</td>\n",
              "    </tr>\n",
              "  </tbody>\n",
              "</table>\n",
              "</div>\n",
              "      <button class=\"colab-df-convert\" onclick=\"convertToInteractive('df-415f4abe-6c41-4fc6-85c7-dd59888e9fb0')\"\n",
              "              title=\"Convert this dataframe to an interactive table.\"\n",
              "              style=\"display:none;\">\n",
              "        \n",
              "  <svg xmlns=\"http://www.w3.org/2000/svg\" height=\"24px\"viewBox=\"0 0 24 24\"\n",
              "       width=\"24px\">\n",
              "    <path d=\"M0 0h24v24H0V0z\" fill=\"none\"/>\n",
              "    <path d=\"M18.56 5.44l.94 2.06.94-2.06 2.06-.94-2.06-.94-.94-2.06-.94 2.06-2.06.94zm-11 1L8.5 8.5l.94-2.06 2.06-.94-2.06-.94L8.5 2.5l-.94 2.06-2.06.94zm10 10l.94 2.06.94-2.06 2.06-.94-2.06-.94-.94-2.06-.94 2.06-2.06.94z\"/><path d=\"M17.41 7.96l-1.37-1.37c-.4-.4-.92-.59-1.43-.59-.52 0-1.04.2-1.43.59L10.3 9.45l-7.72 7.72c-.78.78-.78 2.05 0 2.83L4 21.41c.39.39.9.59 1.41.59.51 0 1.02-.2 1.41-.59l7.78-7.78 2.81-2.81c.8-.78.8-2.07 0-2.86zM5.41 20L4 18.59l7.72-7.72 1.47 1.35L5.41 20z\"/>\n",
              "  </svg>\n",
              "      </button>\n",
              "      \n",
              "  <style>\n",
              "    .colab-df-container {\n",
              "      display:flex;\n",
              "      flex-wrap:wrap;\n",
              "      gap: 12px;\n",
              "    }\n",
              "\n",
              "    .colab-df-convert {\n",
              "      background-color: #E8F0FE;\n",
              "      border: none;\n",
              "      border-radius: 50%;\n",
              "      cursor: pointer;\n",
              "      display: none;\n",
              "      fill: #1967D2;\n",
              "      height: 32px;\n",
              "      padding: 0 0 0 0;\n",
              "      width: 32px;\n",
              "    }\n",
              "\n",
              "    .colab-df-convert:hover {\n",
              "      background-color: #E2EBFA;\n",
              "      box-shadow: 0px 1px 2px rgba(60, 64, 67, 0.3), 0px 1px 3px 1px rgba(60, 64, 67, 0.15);\n",
              "      fill: #174EA6;\n",
              "    }\n",
              "\n",
              "    [theme=dark] .colab-df-convert {\n",
              "      background-color: #3B4455;\n",
              "      fill: #D2E3FC;\n",
              "    }\n",
              "\n",
              "    [theme=dark] .colab-df-convert:hover {\n",
              "      background-color: #434B5C;\n",
              "      box-shadow: 0px 1px 3px 1px rgba(0, 0, 0, 0.15);\n",
              "      filter: drop-shadow(0px 1px 2px rgba(0, 0, 0, 0.3));\n",
              "      fill: #FFFFFF;\n",
              "    }\n",
              "  </style>\n",
              "\n",
              "      <script>\n",
              "        const buttonEl =\n",
              "          document.querySelector('#df-415f4abe-6c41-4fc6-85c7-dd59888e9fb0 button.colab-df-convert');\n",
              "        buttonEl.style.display =\n",
              "          google.colab.kernel.accessAllowed ? 'block' : 'none';\n",
              "\n",
              "        async function convertToInteractive(key) {\n",
              "          const element = document.querySelector('#df-415f4abe-6c41-4fc6-85c7-dd59888e9fb0');\n",
              "          const dataTable =\n",
              "            await google.colab.kernel.invokeFunction('convertToInteractive',\n",
              "                                                     [key], {});\n",
              "          if (!dataTable) return;\n",
              "\n",
              "          const docLinkHtml = 'Like what you see? Visit the ' +\n",
              "            '<a target=\"_blank\" href=https://colab.research.google.com/notebooks/data_table.ipynb>data table notebook</a>'\n",
              "            + ' to learn more about interactive tables.';\n",
              "          element.innerHTML = '';\n",
              "          dataTable['output_type'] = 'display_data';\n",
              "          await google.colab.output.renderOutput(dataTable, element);\n",
              "          const docLink = document.createElement('div');\n",
              "          docLink.innerHTML = docLinkHtml;\n",
              "          element.appendChild(docLink);\n",
              "        }\n",
              "      </script>\n",
              "    </div>\n",
              "  </div>\n",
              "  "
            ]
          },
          "metadata": {},
          "execution_count": 54
        }
      ]
    },
    {
      "cell_type": "code",
      "source": [
        "Dup_Rows = df[df.duplicated()]\n",
        "Dup_Rows"
      ],
      "metadata": {
        "colab": {
          "base_uri": "https://localhost:8080/",
          "height": 237
        },
        "id": "U-8K4dGHvzyC",
        "outputId": "3e0e4036-7a12-4dec-95a2-22793426c52a"
      },
      "execution_count": 72,
      "outputs": [
        {
          "output_type": "execute_result",
          "data": {
            "text/plain": [
              "   TEXT   POS_ TAG_   DEP_\n",
              "10    '  PUNCT   ''  punct\n",
              "14    .  PUNCT    .  punct\n",
              "24  the    DET   DT    det\n",
              "31    ,  PUNCT    ,  punct\n",
              "33    ,  PUNCT    ,  punct\n",
              "35    .  PUNCT    .  punct"
            ],
            "text/html": [
              "\n",
              "  <div id=\"df-9ccc7694-995b-4a08-be78-10168e1aa6e5\">\n",
              "    <div class=\"colab-df-container\">\n",
              "      <div>\n",
              "<style scoped>\n",
              "    .dataframe tbody tr th:only-of-type {\n",
              "        vertical-align: middle;\n",
              "    }\n",
              "\n",
              "    .dataframe tbody tr th {\n",
              "        vertical-align: top;\n",
              "    }\n",
              "\n",
              "    .dataframe thead th {\n",
              "        text-align: right;\n",
              "    }\n",
              "</style>\n",
              "<table border=\"1\" class=\"dataframe\">\n",
              "  <thead>\n",
              "    <tr style=\"text-align: right;\">\n",
              "      <th></th>\n",
              "      <th>TEXT</th>\n",
              "      <th>POS_</th>\n",
              "      <th>TAG_</th>\n",
              "      <th>DEP_</th>\n",
              "    </tr>\n",
              "  </thead>\n",
              "  <tbody>\n",
              "    <tr>\n",
              "      <th>10</th>\n",
              "      <td>'</td>\n",
              "      <td>PUNCT</td>\n",
              "      <td>''</td>\n",
              "      <td>punct</td>\n",
              "    </tr>\n",
              "    <tr>\n",
              "      <th>14</th>\n",
              "      <td>.</td>\n",
              "      <td>PUNCT</td>\n",
              "      <td>.</td>\n",
              "      <td>punct</td>\n",
              "    </tr>\n",
              "    <tr>\n",
              "      <th>24</th>\n",
              "      <td>the</td>\n",
              "      <td>DET</td>\n",
              "      <td>DT</td>\n",
              "      <td>det</td>\n",
              "    </tr>\n",
              "    <tr>\n",
              "      <th>31</th>\n",
              "      <td>,</td>\n",
              "      <td>PUNCT</td>\n",
              "      <td>,</td>\n",
              "      <td>punct</td>\n",
              "    </tr>\n",
              "    <tr>\n",
              "      <th>33</th>\n",
              "      <td>,</td>\n",
              "      <td>PUNCT</td>\n",
              "      <td>,</td>\n",
              "      <td>punct</td>\n",
              "    </tr>\n",
              "    <tr>\n",
              "      <th>35</th>\n",
              "      <td>.</td>\n",
              "      <td>PUNCT</td>\n",
              "      <td>.</td>\n",
              "      <td>punct</td>\n",
              "    </tr>\n",
              "  </tbody>\n",
              "</table>\n",
              "</div>\n",
              "      <button class=\"colab-df-convert\" onclick=\"convertToInteractive('df-9ccc7694-995b-4a08-be78-10168e1aa6e5')\"\n",
              "              title=\"Convert this dataframe to an interactive table.\"\n",
              "              style=\"display:none;\">\n",
              "        \n",
              "  <svg xmlns=\"http://www.w3.org/2000/svg\" height=\"24px\"viewBox=\"0 0 24 24\"\n",
              "       width=\"24px\">\n",
              "    <path d=\"M0 0h24v24H0V0z\" fill=\"none\"/>\n",
              "    <path d=\"M18.56 5.44l.94 2.06.94-2.06 2.06-.94-2.06-.94-.94-2.06-.94 2.06-2.06.94zm-11 1L8.5 8.5l.94-2.06 2.06-.94-2.06-.94L8.5 2.5l-.94 2.06-2.06.94zm10 10l.94 2.06.94-2.06 2.06-.94-2.06-.94-.94-2.06-.94 2.06-2.06.94z\"/><path d=\"M17.41 7.96l-1.37-1.37c-.4-.4-.92-.59-1.43-.59-.52 0-1.04.2-1.43.59L10.3 9.45l-7.72 7.72c-.78.78-.78 2.05 0 2.83L4 21.41c.39.39.9.59 1.41.59.51 0 1.02-.2 1.41-.59l7.78-7.78 2.81-2.81c.8-.78.8-2.07 0-2.86zM5.41 20L4 18.59l7.72-7.72 1.47 1.35L5.41 20z\"/>\n",
              "  </svg>\n",
              "      </button>\n",
              "      \n",
              "  <style>\n",
              "    .colab-df-container {\n",
              "      display:flex;\n",
              "      flex-wrap:wrap;\n",
              "      gap: 12px;\n",
              "    }\n",
              "\n",
              "    .colab-df-convert {\n",
              "      background-color: #E8F0FE;\n",
              "      border: none;\n",
              "      border-radius: 50%;\n",
              "      cursor: pointer;\n",
              "      display: none;\n",
              "      fill: #1967D2;\n",
              "      height: 32px;\n",
              "      padding: 0 0 0 0;\n",
              "      width: 32px;\n",
              "    }\n",
              "\n",
              "    .colab-df-convert:hover {\n",
              "      background-color: #E2EBFA;\n",
              "      box-shadow: 0px 1px 2px rgba(60, 64, 67, 0.3), 0px 1px 3px 1px rgba(60, 64, 67, 0.15);\n",
              "      fill: #174EA6;\n",
              "    }\n",
              "\n",
              "    [theme=dark] .colab-df-convert {\n",
              "      background-color: #3B4455;\n",
              "      fill: #D2E3FC;\n",
              "    }\n",
              "\n",
              "    [theme=dark] .colab-df-convert:hover {\n",
              "      background-color: #434B5C;\n",
              "      box-shadow: 0px 1px 3px 1px rgba(0, 0, 0, 0.15);\n",
              "      filter: drop-shadow(0px 1px 2px rgba(0, 0, 0, 0.3));\n",
              "      fill: #FFFFFF;\n",
              "    }\n",
              "  </style>\n",
              "\n",
              "      <script>\n",
              "        const buttonEl =\n",
              "          document.querySelector('#df-9ccc7694-995b-4a08-be78-10168e1aa6e5 button.colab-df-convert');\n",
              "        buttonEl.style.display =\n",
              "          google.colab.kernel.accessAllowed ? 'block' : 'none';\n",
              "\n",
              "        async function convertToInteractive(key) {\n",
              "          const element = document.querySelector('#df-9ccc7694-995b-4a08-be78-10168e1aa6e5');\n",
              "          const dataTable =\n",
              "            await google.colab.kernel.invokeFunction('convertToInteractive',\n",
              "                                                     [key], {});\n",
              "          if (!dataTable) return;\n",
              "\n",
              "          const docLinkHtml = 'Like what you see? Visit the ' +\n",
              "            '<a target=\"_blank\" href=https://colab.research.google.com/notebooks/data_table.ipynb>data table notebook</a>'\n",
              "            + ' to learn more about interactive tables.';\n",
              "          element.innerHTML = '';\n",
              "          dataTable['output_type'] = 'display_data';\n",
              "          await google.colab.output.renderOutput(dataTable, element);\n",
              "          const docLink = document.createElement('div');\n",
              "          docLink.innerHTML = docLinkHtml;\n",
              "          element.appendChild(docLink);\n",
              "        }\n",
              "      </script>\n",
              "    </div>\n",
              "  </div>\n",
              "  "
            ]
          },
          "metadata": {},
          "execution_count": 72
        }
      ]
    },
    {
      "cell_type": "code",
      "source": [
        "Dup_Rows.to_excel('drive/MyDrive/Colab Notebooks/lesson_21.xlsx')"
      ],
      "metadata": {
        "id": "TlUFaJkav9RT"
      },
      "execution_count": 74,
      "outputs": []
    },
    {
      "cell_type": "code",
      "source": [
        "Dup_Rows.to_excel('C:\\\\ML\\\\Lesson_21\\\\lesson_21.xlsx')"
      ],
      "metadata": {
        "id": "QNkzVRzrxUwt"
      },
      "execution_count": 73,
      "outputs": []
    }
  ]
}