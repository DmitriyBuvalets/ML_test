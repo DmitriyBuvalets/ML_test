{
  "cells": [
    {
      "cell_type": "markdown",
      "metadata": {
        "id": "EO5SDPMwpIyC"
      },
      "source": [
        "1)вычисляет значения функций f 1 (x) = x/(x+100) и f 2 (x) = 1/x при изме-\n",
        "нении x в диапазоне от 5 до 90 с шагом 1."
      ]
    },
    {
      "cell_type": "code",
      "execution_count": 3,
      "metadata": {
        "colab": {
          "base_uri": "https://localhost:8080/"
        },
        "id": "prZEFgFlpRTO",
        "outputId": "a4a9cd54-ef49-4188-ec5c-543198a10729"
      },
      "outputs": [
        {
          "output_type": "stream",
          "name": "stdout",
          "text": [
            "0.07407407407407407\n",
            "0.125\n"
          ]
        }
      ],
      "source": [
        "def f1(x):\n",
        "  x in range(5, 91, 1)\n",
        "  return x/(x+100)\n",
        "\n",
        "def f2(x):\n",
        "  x in range(5, 91, 1)\n",
        "  return 1/x\n",
        "\n",
        "print(f1(8))\n",
        "print(f2(8))\n"
      ]
    },
    {
      "cell_type": "raw",
      "metadata": {
        "id": "OF79VgPQra4L"
      },
      "source": [
        "2) вычисляет значение функций f 3 (x) = 20*(f 1 (x) + f 2 (x))/x.\n"
      ]
    },
    {
      "cell_type": "code",
      "execution_count": 4,
      "metadata": {
        "colab": {
          "base_uri": "https://localhost:8080/"
        },
        "id": "A_tzZXQLriul",
        "outputId": "c06f5563-7f76-4878-9b06-cf70bde875bb"
      },
      "outputs": [
        {
          "output_type": "stream",
          "name": "stdout",
          "text": [
            "0.43039981877902367\n"
          ]
        }
      ],
      "source": [
        "def f3(x):\n",
        "  x in range(5, 91, 1)\n",
        "  return 20*(f1(x)+f2(x))/x\n",
        "\n",
        "print(f3(9))  \n"
      ]
    },
    {
      "cell_type": "raw",
      "metadata": {
        "id": "w2lvmGkBwr9G"
      },
      "source": [
        "3) представляет результат в виде словаря следующего вида*: {x 1 : [f 1 (x 1 ),\n",
        "f 2 (x 1 ), f 3 (x 1 )], x 2 : [f 1 (x 2 ), f 2 (x 2 ), f 3 (x 2 )], …};\n"
      ]
    },
    {
      "cell_type": "code",
      "execution_count": 5,
      "metadata": {
        "colab": {
          "base_uri": "https://localhost:8080/"
        },
        "id": "vqqRjcRUwxw2",
        "outputId": "65a5a6d8-505d-4274-fa1f-4b54037b5477"
      },
      "outputs": [
        {
          "output_type": "stream",
          "name": "stdout",
          "text": [
            "          8         9         7\n",
            "0  0.074074  0.082569  0.065421\n",
            "1  0.125000  0.111111  0.142857\n",
            "2  0.497685  0.430400  0.595079\n"
          ]
        }
      ],
      "source": [
        "import pandas as pd\n",
        "x1 = 8\n",
        "x2 = 9\n",
        "x3 = 7\n",
        "D = {x1:[f1(x1), f2(x1), f3(x1)],\n",
        "     x2:[f1(x2), f2(x2), f3(x2)],\n",
        "     x3:[f1(x3), f2(x3), f3(x3)]}\n",
        "\n",
        "df1 = pd.DataFrame(D)\n",
        "\n",
        "\n",
        "print(df1)\n"
      ]
    },
    {
      "cell_type": "raw",
      "metadata": {
        "id": "7vlZy5pf2woh"
      },
      "source": [
        "4) сохраняет результат вычислений в CSV-файл, заголовком (столбцами)\n",
        "которого являются значения x, f 1 (x), f 2 (x), f 3 (x);\n"
      ]
    },
    {
      "cell_type": "code",
      "execution_count": 6,
      "metadata": {
        "id": "GT9D3_X3EBt3"
      },
      "outputs": [],
      "source": [
        "import pandas as pd\n",
        "\n",
        "final_result = pd.concat([df1])\n",
        "\n",
        "#path = \"C://Python_ML//Lesson_3//\"\n",
        "\n",
        "final_result.to_excel('./my_book.xlsx')\n"
      ]
    },
    {
      "cell_type": "raw",
      "metadata": {
        "id": "TUyIjFyhWegm"
      },
      "source": [
        "5) читает записанный CSV-файл и представляет результат в виде списка\n",
        "[[x 1 , f 1 (x 1 ), f 2 (x 1 ), f 3 (x 1 )], [x 2 , f 1 (x 2 ), f 2 (x 2 ), f 3 (x 2 )], …];"
      ]
    },
    {
      "cell_type": "code",
      "execution_count": 7,
      "metadata": {
        "colab": {
          "base_uri": "https://localhost:8080/"
        },
        "id": "I_VVWlAxWegn",
        "outputId": "7e531500-752c-47c3-ab79-c108f04bf38d"
      },
      "outputs": [
        {
          "output_type": "stream",
          "name": "stdout",
          "text": [
            "     0         1         2         3\n",
            "0  NaN  8.000000  9.000000  7.000000\n",
            "1  0.0  0.074074  0.082569  0.065421\n",
            "2  1.0  0.125000  0.111111  0.142857\n",
            "3  2.0  0.497685  0.430400  0.595079\n"
          ]
        }
      ],
      "source": [
        "import pandas as pd\n",
        "\n",
        "#excel = pd.ExcelFile('C://Python_ML//Lesson_3//my_book.xlsx')\n",
        "\n",
        "excel = pd.ExcelFile('./my_book.xlsx')\n",
        "\n",
        "df2 = pd.read_excel(\"my_book.xlsx\", sheet_name=0, index_col=None, header=None)\n",
        "\n",
        "#df2 = pd.read_excel(excel, sheetname='Sheet1', header=None)\n",
        "\n",
        "print(df2)"
      ]
    },
    {
      "cell_type": "raw",
      "metadata": {
        "id": "1VvxrDRCWego"
      },
      "source": [
        "6) сохраняет список [[x 1 , f 1 (x 1 ), f 2 (x 1 ), f 3 (x 1 )], [x 2 , f 1 (x 2 ), f 2 (x 2 ), f 3 (x 2 )], …] в\n",
        "JSON-файл."
      ]
    },
    {
      "cell_type": "code",
      "execution_count": 8,
      "metadata": {
        "colab": {
          "base_uri": "https://localhost:8080/"
        },
        "id": "gyHZmNsIWegp",
        "outputId": "12c97838-a99c-400b-d947-e3248546a909"
      },
      "outputs": [
        {
          "output_type": "stream",
          "name": "stdout",
          "text": [
            "[[null,8.0,9.0,7.0],[0.0,0.0740740741,0.0825688073,0.0654205607],[1.0,0.125,0.1111111111,0.1428571429],[2.0,0.4976851852,0.4303998188,0.5950791532]]\n"
          ]
        }
      ],
      "source": [
        "import pandas as pd\n",
        "\n",
        "json_value = df2.to_json(orient='values')\n",
        "\n",
        "print(json_value)"
      ]
    }
  ],
  "metadata": {
    "colab": {
      "collapsed_sections": [],
      "name": "Lessons_3.ipynb",
      "provenance": []
    },
    "kernelspec": {
      "display_name": "Python 3",
      "language": "python",
      "name": "python3"
    },
    "language_info": {
      "codemirror_mode": {
        "name": "ipython",
        "version": 3
      },
      "file_extension": ".py",
      "mimetype": "text/x-python",
      "name": "python",
      "nbconvert_exporter": "python",
      "pygments_lexer": "ipython3",
      "version": "3.8.3"
    }
  },
  "nbformat": 4,
  "nbformat_minor": 0
}