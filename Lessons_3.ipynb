{
  "nbformat": 4,
  "nbformat_minor": 0,
  "metadata": {
    "colab": {
      "name": "Lessons_3.ipynb",
      "provenance": [],
      "collapsed_sections": []
    },
    "kernelspec": {
      "name": "python3",
      "display_name": "Python 3"
    },
    "language_info": {
      "name": "python"
    }
  },
  "cells": [
    {
      "cell_type": "markdown",
      "source": [
        "1)вычисляет значения функций f 1 (x) = x/(x+100) и f 2 (x) = 1/x при изме-\n",
        "нении x в диапазоне от 5 до 90 с шагом 1."
      ],
      "metadata": {
        "id": "EO5SDPMwpIyC"
      }
    },
    {
      "cell_type": "code",
      "source": [
        "def f1(x):\n",
        "  x in range(5, 91, 1)\n",
        "  return x/(x+100)\n",
        "\n",
        "def f2(x):\n",
        "  x in range(5, 91, 1)\n",
        "  return 1/x\n",
        "\n",
        "print(f1(8))\n",
        "print(f2(8))\n"
      ],
      "metadata": {
        "colab": {
          "base_uri": "https://localhost:8080/"
        },
        "id": "prZEFgFlpRTO",
        "outputId": "d4c9be50-373a-42cb-d207-84bd2d61f287"
      },
      "execution_count": 63,
      "outputs": [
        {
          "output_type": "stream",
          "name": "stdout",
          "text": [
            "0.07407407407407407\n",
            "0.125\n"
          ]
        }
      ]
    },
    {
      "cell_type": "markdown",
      "source": [
        "2) вычисляет значение функций f 3 (x) = 20*(f 1 (x) + f 2 (x))/x.\n"
      ],
      "metadata": {
        "id": "OF79VgPQra4L"
      }
    },
    {
      "cell_type": "code",
      "source": [
        "def f3(x):\n",
        "  x in range(5, 91, 1)\n",
        "  return 20*(f1(x)+f2(x))/x\n",
        "\n",
        "print(f3(9))  \n"
      ],
      "metadata": {
        "colab": {
          "base_uri": "https://localhost:8080/"
        },
        "id": "A_tzZXQLriul",
        "outputId": "fb336f9f-3ca9-4898-dabc-55ccd26d5725"
      },
      "execution_count": 64,
      "outputs": [
        {
          "output_type": "stream",
          "name": "stdout",
          "text": [
            "0.43039981877902367\n"
          ]
        }
      ]
    },
    {
      "cell_type": "markdown",
      "source": [
        "3) представляет результат в виде словаря следующего вида*: {x 1 : [f 1 (x 1 ),\n",
        "f 2 (x 1 ), f 3 (x 1 )], x 2 : [f 1 (x 2 ), f 2 (x 2 ), f 3 (x 2 )], …};\n"
      ],
      "metadata": {
        "id": "w2lvmGkBwr9G"
      }
    },
    {
      "cell_type": "code",
      "source": [
        "import pandas as pd\n",
        "x1 = 8\n",
        "x2 = 9\n",
        "D = {x1:[f1(x1), f2(x1), f3(x1)],\n",
        "     x2:[f1(x2), f2(x2), f3(x2)]}\n",
        "\n",
        "df1 = pd.DataFrame(D)\n",
        "\n",
        "\n",
        "print(df1)\n"
      ],
      "metadata": {
        "colab": {
          "base_uri": "https://localhost:8080/"
        },
        "id": "vqqRjcRUwxw2",
        "outputId": "3354541e-17ab-4c3e-c21f-d187e245a0e0"
      },
      "execution_count": 65,
      "outputs": [
        {
          "output_type": "stream",
          "name": "stdout",
          "text": [
            "          8         9\n",
            "0  0.074074  0.082569\n",
            "1  0.125000  0.111111\n",
            "2  0.497685  0.430400\n"
          ]
        }
      ]
    },
    {
      "cell_type": "markdown",
      "source": [
        "4) сохраняет результат вычислений в CSV-файл, заголовком (столбцами)\n",
        "которого являются значения x, f 1 (x), f 2 (x), f 3 (x);\n"
      ],
      "metadata": {
        "id": "7vlZy5pf2woh"
      }
    },
    {
      "cell_type": "code",
      "source": [
        "import openpyxl\n",
        "\n",
        "book = openpyxl.Workbook()\n",
        "sheet = book.active\n",
        "book.save('C:\\\\Python_ML\\\\Lesson_3\\\\my_book.xlsx')\n",
        "book.close()"
      ],
      "metadata": {
        "id": "GT9D3_X3EBt3"
      },
      "execution_count": null,
      "outputs": []
    }
  ]
}