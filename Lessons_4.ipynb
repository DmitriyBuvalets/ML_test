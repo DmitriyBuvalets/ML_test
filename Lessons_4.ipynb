{
  "nbformat": 4,
  "nbformat_minor": 0,
  "metadata": {
    "colab": {
      "name": "Lessons_4.ipynb",
      "provenance": [],
      "collapsed_sections": []
    },
    "kernelspec": {
      "name": "python3",
      "display_name": "Python 3"
    },
    "language_info": {
      "name": "python"
    }
  },
  "cells": [
    {
      "cell_type": "code",
      "execution_count": 7,
      "metadata": {
        "id": "q0K6f-6dKRco"
      },
      "outputs": [],
      "source": [
        "import math \n",
        "\n",
        "class Shape:\n",
        "  def __init__(self, x, y):\n",
        "    self.x = x\n",
        "    self.y = y\n",
        "  def move(self, delta_x, delta_y):\n",
        "    self.x = self.x + delta_x\n",
        "    self.y = self.y + delta_y\n",
        "#**************************************************** \n",
        "class Square(Shape):\n",
        "  def __init__(self, side=1, x=0, y=0):\n",
        "    super().__init__(x, y)\n",
        "    self.side = side\n",
        "\n",
        "  def get_area(self):\n",
        "    return self.side * self.side\n",
        "\n",
        "  def __str__(self):\n",
        "    return \"Square of side %s at coordinates (%d, %d)\" % (self.side, self.x, self.y) \n",
        "#**************************************************** \n",
        "\n",
        "class Triangle(Shape):\n",
        "  def __init__(self, side=1, x=0, y=0):\n",
        "    super().__init__(x, y)\n",
        "    self.side = side\n",
        "\n",
        "  def get_area(self):\n",
        "    return math.sqrt(3)/4 * self.side * self.side  \n",
        "\n",
        "  def __str__(self):\n",
        "    return \"Triangle of side %s at coordinates (%d, %d)\" % (self.side, self.x, self.y) \n",
        "#****************************************************   \n",
        "class Circle(Shape):\n",
        "  pi = 3.14159\n",
        "\n",
        "  def __init__(self, r=1, x=0, y=0):\n",
        "    super().__init__(x, y)\n",
        "    self.radius = r\n",
        "\n",
        "  def get_area(self):\n",
        "    return self.radius * self.radius * self.pi\n",
        "\n",
        "  def __str__(self):\n",
        "    return \"Circle of radius %s at coordinates (%d, %d)\" % (self.radius, self.x, self.y) \n",
        "             \n",
        "            "
      ]
    },
    {
      "cell_type": "code",
      "source": [
        "c1 = Circle(5)\n",
        "c2 = Circle(5, 15, 20)\n",
        "print(c1)\n",
        "print(c2)\n",
        "\n",
        "print('Circle of Square ', c2.get_area())\n",
        "\n",
        "a = Square(7)\n",
        "print('Area of Square ', a.get_area())\n",
        "\n",
        "b = Triangle(9, 15, 20)\n",
        "print(b)\n",
        "b = Triangle(8)\n",
        "\n",
        "print('Area of Triangle ', b.get_area())\n",
        "#c.move(3, 4)\n",
        "#print(c.x, c.y, sep='\\n')"
      ],
      "metadata": {
        "colab": {
          "base_uri": "https://localhost:8080/"
        },
        "id": "Iy2Uz8E9uzKi",
        "outputId": "63c99a14-e8df-4e32-bdb0-050a60831699"
      },
      "execution_count": 13,
      "outputs": [
        {
          "output_type": "stream",
          "name": "stdout",
          "text": [
            "Circle of radius 5 at coordinates (0, 0)\n",
            "Circle of radius 5 at coordinates (15, 20)\n",
            "Circle of Square  78.53975\n",
            "Area of Square  49\n",
            "Triangle of side 9 at coordinates (15, 20)\n",
            "Area of Triangle  27.712812921102035\n"
          ]
        }
      ]
    }
  ]
}