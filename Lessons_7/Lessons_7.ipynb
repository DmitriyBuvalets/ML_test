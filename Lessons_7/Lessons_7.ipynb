{
  "nbformat": 4,
  "nbformat_minor": 0,
  "metadata": {
    "colab": {
      "name": "Lessons_7.ipynb",
      "provenance": []
    },
    "kernelspec": {
      "name": "python3",
      "display_name": "Python 3"
    },
    "language_info": {
      "name": "python"
    }
  },
  "cells": [
    {
      "cell_type": "markdown",
      "source": [
        "1. Реализуют все стандартные быстрые унарные математические опера\u0002ции"
      ],
      "metadata": {
        "id": "REyVjnr2tqBt"
      }
    },
    {
      "cell_type": "code",
      "source": [
        "import numpy as np"
      ],
      "metadata": {
        "id": "FNcKwq0ttrVj"
      },
      "execution_count": null,
      "outputs": []
    },
    {
      "cell_type": "code",
      "source": [
        "data = np.random.randint(10, 20, size = (2, 3))\n",
        "print(data)"
      ],
      "metadata": {
        "colab": {
          "base_uri": "https://localhost:8080/"
        },
        "id": "nPJmNfI2qMEw",
        "outputId": "9ac88125-61c2-4042-b0d8-64afdbe6020e"
      },
      "execution_count": 28,
      "outputs": [
        {
          "output_type": "stream",
          "name": "stdout",
          "text": [
            "[[11 14 17]\n",
            " [13 13 11]]\n"
          ]
        }
      ]
    },
    {
      "cell_type": "code",
      "source": [
        "print(data.mean());\n",
        "print(data.sum());\n",
        "print(data.mean(axis=1));\n",
        "print(data.sum(axis=0));"
      ],
      "metadata": {
        "colab": {
          "base_uri": "https://localhost:8080/"
        },
        "id": "PoUAgCr2spxe",
        "outputId": "34a9565d-d4e0-4b88-adc7-22854fb7df77"
      },
      "execution_count": 35,
      "outputs": [
        {
          "output_type": "stream",
          "name": "stdout",
          "text": [
            "13.166666666666666\n",
            "79\n",
            "[14.         12.33333333]\n",
            "[24 27 28]\n"
          ]
        }
      ]
    },
    {
      "cell_type": "code",
      "source": [
        "print(data.shape)"
      ],
      "metadata": {
        "colab": {
          "base_uri": "https://localhost:8080/"
        },
        "id": "3Zs_FilGtnI9",
        "outputId": "8c5179ba-46fd-4720-dffe-52889e27d5d0"
      },
      "execution_count": 30,
      "outputs": [
        {
          "output_type": "stream",
          "name": "stdout",
          "text": [
            "(2, 3)\n"
          ]
        }
      ]
    },
    {
      "cell_type": "markdown",
      "source": [
        " 2. Преобразуют исходный двумерный массив в трехмерный"
      ],
      "metadata": {
        "id": "hkMc8CAXuZ8V"
      }
    },
    {
      "cell_type": "code",
      "source": [
        "data2 = np.reshape(data, (3, 2))\n",
        "print(data2)\n"
      ],
      "metadata": {
        "colab": {
          "base_uri": "https://localhost:8080/"
        },
        "id": "JN5pm7b4uaKW",
        "outputId": "2d7b65d3-ad64-4753-ddf5-20d855c7909c"
      },
      "execution_count": 31,
      "outputs": [
        {
          "output_type": "stream",
          "name": "stdout",
          "text": [
            "[[11 14]\n",
            " [17 13]\n",
            " [13 11]]\n"
          ]
        }
      ]
    }
  ]
}